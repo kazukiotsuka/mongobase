{
 "cells": [
  {
   "cell_type": "markdown",
   "metadata": {},
   "source": [
    "#### MongoBase starting guide"
   ]
  },
  {
   "cell_type": "code",
   "execution_count": 263,
   "metadata": {},
   "outputs": [
    {
     "name": "stdout",
     "output_type": "stream",
     "text": [
      "The autoreload extension is already loaded. To reload it, use:\n",
      "  %reload_ext autoreload\n"
     ]
    }
   ],
   "source": [
    "%load_ext autoreload\n",
    "%autoreload 2\n",
    "%matplotlib inline\n",
    "import sys\n",
    "import time\n",
    "import threading\n",
    "import multiprocessing\n",
    "import datetime as dt\n",
    "sys.path.append('../')\n",
    "from models.mongobase import MongoBase, db_context\n",
    "from bson import ObjectId"
   ]
  },
  {
   "cell_type": "markdown",
   "metadata": {},
   "source": [
    "#### ObjectId"
   ]
  },
  {
   "cell_type": "markdown",
   "metadata": {},
   "source": [
    "First, let's talk about ObjectId."
   ]
  },
  {
   "cell_type": "code",
   "execution_count": 264,
   "metadata": {},
   "outputs": [],
   "source": [
    "x = ObjectId()\n",
    "time.sleep(1)\n",
    "y = ObjectId()\n",
    "time.sleep(1)\n",
    "z = ObjectId()"
   ]
  },
  {
   "cell_type": "code",
   "execution_count": 265,
   "metadata": {
    "scrolled": true
   },
   "outputs": [
    {
     "data": {
      "text/plain": [
       "ObjectId('5c80c7c516fa0d6c102c3270')"
      ]
     },
     "execution_count": 265,
     "metadata": {},
     "output_type": "execute_result"
    }
   ],
   "source": [
    "x"
   ]
  },
  {
   "cell_type": "code",
   "execution_count": 266,
   "metadata": {},
   "outputs": [
    {
     "data": {
      "text/plain": [
       "'5c80c7c516fa0d6c102c3270'"
      ]
     },
     "execution_count": 266,
     "metadata": {},
     "output_type": "execute_result"
    }
   ],
   "source": [
    "str(x)"
   ]
  },
  {
   "cell_type": "code",
   "execution_count": 267,
   "metadata": {},
   "outputs": [
    {
     "data": {
      "text/plain": [
       "datetime.datetime(2019, 3, 7, 7, 27, 1, tzinfo=<bson.tz_util.FixedOffset object at 0x7f32c5282400>)"
      ]
     },
     "execution_count": 267,
     "metadata": {},
     "output_type": "execute_result"
    }
   ],
   "source": [
    "x.generation_time"
   ]
  },
  {
   "cell_type": "code",
   "execution_count": 268,
   "metadata": {
    "scrolled": true
   },
   "outputs": [
    {
     "data": {
      "text/plain": [
       "datetime.datetime(2019, 3, 7, 7, 27, 2, tzinfo=<bson.tz_util.FixedOffset object at 0x7f32c5282400>)"
      ]
     },
     "execution_count": 268,
     "metadata": {},
     "output_type": "execute_result"
    }
   ],
   "source": [
    "y.generation_time"
   ]
  },
  {
   "cell_type": "code",
   "execution_count": 269,
   "metadata": {},
   "outputs": [
    {
     "data": {
      "text/plain": [
       "True"
      ]
     },
     "execution_count": 269,
     "metadata": {},
     "output_type": "execute_result"
    }
   ],
   "source": [
    "x < y and y < z"
   ]
  },
  {
   "cell_type": "markdown",
   "metadata": {},
   "source": [
    "Actually, ObjectId is usuful. It is unique, sortable and memory efficient.\n",
    "\n",
    "http://api.mongodb.com/python/current/api/bson/objectid.html\n",
    "\n",
    ">An ObjectId is a 12-byte unique identifier consisting of:\n",
    "\n",
    ">a 4-byte value representing the seconds since the Unix epoch,  \n",
    ">a 3-byte machine identifier,  \n",
    ">a 2-byte process id, and  \n",
    ">a 3-byte counter, starting with a random value.  \n",
    "\n",
    "And also ObjectId is fast for inserting or indexing. The index size is small.\n",
    "\n",
    "https://github.com/Restuta/mongo.Guid-vs-ObjectId-performance"
   ]
  },
  {
   "cell_type": "markdown",
   "metadata": {},
   "source": [
    "#### Define a database model"
   ]
  },
  {
   "cell_type": "markdown",
   "metadata": {},
   "source": [
    "So now, we create a simple test collection with MongoBase."
   ]
  },
  {
   "cell_type": "code",
   "execution_count": 270,
   "metadata": {},
   "outputs": [],
   "source": [
    "class Bird(MongoBase):\n",
    "    __collection__ = 'birds'\n",
    "    __structure__ = {\n",
    "        '_id': ObjectId,\n",
    "        'name': str,\n",
    "        'age': int,\n",
    "        'is_able_to_fly': bool,\n",
    "        'created': dt.datetime,\n",
    "        'updated': dt.datetime\n",
    "    }\n",
    "    __required_fields__ = ['_id', 'name']\n",
    "    __default_values__ = {\n",
    "        '_id': ObjectId(),\n",
    "        'is_able_to_fly': False,\n",
    "        'created': dt.datetime.now(dt.timezone.utc),\n",
    "        'updated': dt.datetime.now(dt.timezone.utc)\n",
    "    }\n",
    "    __validators__ = {}\n",
    "    __indexed_keys__ = {}"
   ]
  },
  {
   "cell_type": "markdown",
   "metadata": {},
   "source": [
    "The `__structure__` part represents the definition of the model.\n"
   ]
  },
  {
   "cell_type": "markdown",
   "metadata": {},
   "source": [
    "#### Basic instractions. (insert, update, find, remove)"
   ]
  },
  {
   "cell_type": "markdown",
   "metadata": {},
   "source": [
    "Let's try basic instractions like inserts, updates, find and remove. "
   ]
  },
  {
   "cell_type": "markdown",
   "metadata": {},
   "source": [
    "Firstly, let's begin with creating an instance to be stored."
   ]
  },
  {
   "cell_type": "code",
   "execution_count": 271,
   "metadata": {},
   "outputs": [],
   "source": [
    "chicken = Bird({'_id': ObjectId(), 'name': 'chicken', 'age': 3})"
   ]
  },
  {
   "cell_type": "code",
   "execution_count": 272,
   "metadata": {},
   "outputs": [
    {
     "data": {
      "text/plain": [
       "{'_id': ObjectId('5c80c7c716fa0d6c102c3274'),\n",
       " 'name': 'chicken',\n",
       " 'age': 3,\n",
       " 'is_able_to_fly': False,\n",
       " 'created': datetime.datetime(2019, 3, 7, 7, 27, 3, 190594, tzinfo=datetime.timezone.utc),\n",
       " 'updated': datetime.datetime(2019, 3, 7, 7, 27, 3, 190605, tzinfo=datetime.timezone.utc)}"
      ]
     },
     "execution_count": 272,
     "metadata": {},
     "output_type": "execute_result"
    }
   ],
   "source": [
    "chicken"
   ]
  },
  {
   "cell_type": "code",
   "execution_count": 273,
   "metadata": {
    "scrolled": true
   },
   "outputs": [
    {
     "data": {
      "text/plain": [
       "datetime.datetime(2019, 3, 7, 7, 27, 3, tzinfo=<bson.tz_util.FixedOffset object at 0x7f32c5282400>)"
      ]
     },
     "execution_count": 273,
     "metadata": {},
     "output_type": "execute_result"
    }
   ],
   "source": [
    "chicken._id.generation_time"
   ]
  },
  {
   "cell_type": "markdown",
   "metadata": {},
   "source": [
    "Good chicken. Let's save while it is fresh."
   ]
  },
  {
   "cell_type": "code",
   "execution_count": 274,
   "metadata": {},
   "outputs": [
    {
     "data": {
      "text/plain": [
       "{'_id': ObjectId('5c80c7c716fa0d6c102c3274'),\n",
       " 'name': 'chicken',\n",
       " 'age': 3,\n",
       " 'is_able_to_fly': False,\n",
       " 'created': datetime.datetime(2019, 3, 7, 7, 27, 3, 190594, tzinfo=datetime.timezone.utc),\n",
       " 'updated': datetime.datetime(2019, 3, 7, 7, 27, 3, 190605, tzinfo=datetime.timezone.utc)}"
      ]
     },
     "execution_count": 274,
     "metadata": {},
     "output_type": "execute_result"
    }
   ],
   "source": [
    "chicken.save()"
   ]
  },
  {
   "cell_type": "markdown",
   "metadata": {},
   "source": [
    "Chickens are considered to be unable to fly by default. We can let it be enable by updating."
   ]
  },
  {
   "cell_type": "code",
   "execution_count": 275,
   "metadata": {},
   "outputs": [
    {
     "data": {
      "text/plain": [
       "False"
      ]
     },
     "execution_count": 275,
     "metadata": {},
     "output_type": "execute_result"
    }
   ],
   "source": [
    "chicken.is_able_to_fly"
   ]
  },
  {
   "cell_type": "code",
   "execution_count": 276,
   "metadata": {
    "scrolled": true
   },
   "outputs": [
    {
     "data": {
      "text/plain": [
       "{'_id': ObjectId('5c80c7c716fa0d6c102c3274'),\n",
       " 'name': 'chicken',\n",
       " 'age': 3,\n",
       " 'is_able_to_fly': True,\n",
       " 'created': datetime.datetime(2019, 3, 7, 7, 27, 3, 190594, tzinfo=datetime.timezone.utc),\n",
       " 'updated': datetime.datetime(2019, 3, 7, 7, 27, 3, 190605, tzinfo=datetime.timezone.utc)}"
      ]
     },
     "execution_count": 276,
     "metadata": {},
     "output_type": "execute_result"
    }
   ],
   "source": [
    "chicken.is_able_to_fly = True\n",
    "chicken.update()"
   ]
  },
  {
   "cell_type": "markdown",
   "metadata": {},
   "source": [
    "You would be able to see `'is_able_to_fly': True`.  "
   ]
  },
  {
   "cell_type": "markdown",
   "metadata": {},
   "source": [
    "Chickens grow up in several ways."
   ]
  },
  {
   "cell_type": "code",
   "execution_count": 277,
   "metadata": {},
   "outputs": [],
   "source": [
    "chicken.age = 5\n",
    "chicken = chicken.update()\n",
    "assert chicken.age == 5, 'something wrong on update()'\n",
    "chicken = Bird.findAndUpdateById(chicken._id, {'age': 6})\n",
    "assert chicken.age == 6, 'something wrong on findAndUpdateById()'"
   ]
  },
  {
   "cell_type": "markdown",
   "metadata": {},
   "source": [
    "Next let's try find methods."
   ]
  },
  {
   "cell_type": "code",
   "execution_count": 278,
   "metadata": {
    "scrolled": true
   },
   "outputs": [
    {
     "data": {
      "text/plain": [
       "{'_id': ObjectId('5c80c7c716fa0d6c102c3275'),\n",
       " 'name': 'mother chicken',\n",
       " 'age': 63,\n",
       " 'is_able_to_fly': False,\n",
       " 'created': datetime.datetime(2019, 3, 7, 7, 27, 3, 190594, tzinfo=datetime.timezone.utc),\n",
       " 'updated': datetime.datetime(2019, 3, 7, 7, 27, 3, 190605, tzinfo=datetime.timezone.utc)}"
      ]
     },
     "execution_count": 278,
     "metadata": {},
     "output_type": "execute_result"
    }
   ],
   "source": [
    "mother_chicken = Bird({'_id': ObjectId(), 'name': 'mother chicken', 'age': 63})\n",
    "mother_chicken.save()"
   ]
  },
  {
   "cell_type": "markdown",
   "metadata": {},
   "source": [
    "Now we can retrieve the same document from database."
   ]
  },
  {
   "cell_type": "code",
   "execution_count": 279,
   "metadata": {},
   "outputs": [
    {
     "data": {
      "text/plain": [
       "{'_id': ObjectId('5c79166716fa0d215968d3ba'),\n",
       " 'name': 'mother chicken',\n",
       " 'age': 63,\n",
       " 'is_able_to_fly': False,\n",
       " 'created': datetime.datetime(2019, 3, 1, 11, 20, 21, 306000),\n",
       " 'updated': datetime.datetime(2019, 3, 1, 11, 20, 21, 306000)}"
      ]
     },
     "execution_count": 279,
     "metadata": {},
     "output_type": "execute_result"
    }
   ],
   "source": [
    "Bird.findOne({'name': 'mother chicken'})"
   ]
  },
  {
   "cell_type": "markdown",
   "metadata": {},
   "source": [
    "It is the same chicken, isn't it? great. Let's clear (eat) it."
   ]
  },
  {
   "cell_type": "code",
   "execution_count": 280,
   "metadata": {},
   "outputs": [
    {
     "data": {
      "text/plain": [
       "1"
      ]
     },
     "execution_count": 280,
     "metadata": {},
     "output_type": "execute_result"
    }
   ],
   "source": [
    "mother_chicken.remove()"
   ]
  },
  {
   "cell_type": "code",
   "execution_count": 281,
   "metadata": {
    "scrolled": true
   },
   "outputs": [
    {
     "name": "stdout",
     "output_type": "stream",
     "text": [
      "Yes. The mother chicken not found. Someone might ate it.\n"
     ]
    }
   ],
   "source": [
    "if not Bird.findOne({'_id': mother_chicken._id}):\n",
    "    print('Yes. The mother chicken not found. Someone might ate it.')"
   ]
  },
  {
   "cell_type": "markdown",
   "metadata": {},
   "source": [
    "Now we get all chickens which we stored so far."
   ]
  },
  {
   "cell_type": "code",
   "execution_count": 282,
   "metadata": {},
   "outputs": [],
   "source": [
    "all_chickens = Bird.find({'name': 'chicken'}, sort=[('_id', 1)])"
   ]
  },
  {
   "cell_type": "code",
   "execution_count": 283,
   "metadata": {
    "scrolled": true
   },
   "outputs": [
    {
     "data": {
      "text/plain": [
       "17"
      ]
     },
     "execution_count": 283,
     "metadata": {},
     "output_type": "execute_result"
    }
   ],
   "source": [
    "len(all_chickens)"
   ]
  },
  {
   "cell_type": "markdown",
   "metadata": {},
   "source": [
    "Or we can count with count() method directly."
   ]
  },
  {
   "cell_type": "code",
   "execution_count": 284,
   "metadata": {},
   "outputs": [
    {
     "data": {
      "text/plain": [
       "17"
      ]
     },
     "execution_count": 284,
     "metadata": {},
     "output_type": "execute_result"
    }
   ],
   "source": [
    "Bird.count({'name': 'chicken'})"
   ]
  },
  {
   "cell_type": "markdown",
   "metadata": {},
   "source": [
    "Let's check if the latest chicken is equal to the one which we just saved."
   ]
  },
  {
   "cell_type": "code",
   "execution_count": 285,
   "metadata": {},
   "outputs": [
    {
     "data": {
      "text/plain": [
       "True"
      ]
     },
     "execution_count": 285,
     "metadata": {},
     "output_type": "execute_result"
    }
   ],
   "source": [
    "all_chickens[-1]._id.generation_time == chicken._id.generation_time"
   ]
  },
  {
   "cell_type": "markdown",
   "metadata": {},
   "source": [
    "Is that `True`, right?"
   ]
  },
  {
   "cell_type": "markdown",
   "metadata": {},
   "source": [
    "#### Contextual database"
   ]
  },
  {
   "cell_type": "markdown",
   "metadata": {},
   "source": [
    "MongoBase automatically creates mongodb client for each process.  \n",
    "But in some cases, some instances must be written or read for a different client or db.  \n",
    "If you use db context, it uses a designated database within the context.  \n",
    "Let's get try on it."
   ]
  },
  {
   "cell_type": "code",
   "execution_count": 286,
   "metadata": {},
   "outputs": [
    {
     "name": "stdout",
     "output_type": "stream",
     "text": [
      "Database(MongoClient(host=['localhost:27017'], document_class=dict, tz_aware=False, connect=True, connecttimeoutms=10000, serverselectiontimeoutms=10000, sockettimeoutms=10000, socketkeepalive=True, maxidletimems=10000, maxpoolsize=200, minpoolsize=10, waitqueuemultiple=12, waitqueuetimeoutms=100), 'test')\n",
      "32 flamingo found in the test database.\n",
      "0 flamingo found in the default database.\n"
     ]
    }
   ],
   "source": [
    "with db_context(db_uri='localhost', db_name='test') as db:\n",
    "    print(db)\n",
    "    flamingo = Bird({'_id': ObjectId(), 'name': 'flamingo', 'age': 20})\n",
    "    flamingo.save(db=db)\n",
    "    \n",
    "    flamingo.age = 23\n",
    "    flamingo = flamingo.update(db=db)\n",
    "    assert flamingo.age == 23, 'something wrong on update()'\n",
    "    flamingo = Bird.findAndUpdateById(flamingo._id, {'age': 24}, db=db)\n",
    "    assert flamingo.age == 24, 'something wrong on findAndUpdateById()'\n",
    "    \n",
    "    n_flamingo = Bird.count({'name': 'flamingo'}, db=db)\n",
    "    print(f'{n_flamingo} flamingo found in the test database.')\n",
    "\n",
    "n_flamingo = Bird.count({'name': 'flamingo'})\n",
    "print(f'{n_flamingo} flamingo found in the default database.')\n",
    "assert n_flamingo == 0"
   ]
  },
  {
   "cell_type": "markdown",
   "metadata": {},
   "source": [
    "#### Bulk Operation"
   ]
  },
  {
   "cell_type": "markdown",
   "metadata": {},
   "source": [
    "Many insert operations takes a large computing cost. Fortunately, MongoDB provides an operation named \"bulk write\".  \n",
    "It enables to insert many documents in one operation."
   ]
  },
  {
   "cell_type": "markdown",
   "metadata": {},
   "source": [
    "Bulk Insert"
   ]
  },
  {
   "cell_type": "code",
   "execution_count": 313,
   "metadata": {},
   "outputs": [
    {
     "name": "stdout",
     "output_type": "stream",
     "text": [
      "{'_id': ObjectId('5c80c93b16fa0d6c102cab92'), 'name': 'pigeon', 'age': 1, 'is_able_to_fly': False, 'created': datetime.datetime(2019, 3, 7, 7, 27, 3, 190594, tzinfo=datetime.timezone.utc), 'updated': datetime.datetime(2019, 3, 7, 7, 27, 3, 190605, tzinfo=datetime.timezone.utc)}\n"
     ]
    }
   ],
   "source": [
    "many_pigeon = []\n",
    "for i in range(10000):\n",
    "    many_pigeon += [Bird({'_id': ObjectId(), 'name': f'pigeon', 'age': i})]\n",
    "print(many_pigeon[1])"
   ]
  },
  {
   "cell_type": "code",
   "execution_count": 314,
   "metadata": {
    "scrolled": true
   },
   "outputs": [
    {
     "name": "stdout",
     "output_type": "stream",
     "text": [
      "CPU times: user 244 ms, sys: 12 ms, total: 256 ms\n",
      "Wall time: 295 ms\n"
     ]
    },
    {
     "data": {
      "text/plain": [
       "10000"
      ]
     },
     "execution_count": 314,
     "metadata": {},
     "output_type": "execute_result"
    }
   ],
   "source": [
    "%%time\n",
    "Bird.bulk_insert(many_pigeon)"
   ]
  },
  {
   "cell_type": "code",
   "execution_count": 315,
   "metadata": {},
   "outputs": [
    {
     "data": {
      "text/plain": [
       "10000"
      ]
     },
     "execution_count": 315,
     "metadata": {},
     "output_type": "execute_result"
    }
   ],
   "source": [
    "Bird.count({'name': 'pigeon'})"
   ]
  },
  {
   "cell_type": "markdown",
   "metadata": {},
   "source": [
    "Bulk Update"
   ]
  },
  {
   "cell_type": "code",
   "execution_count": 316,
   "metadata": {},
   "outputs": [],
   "source": [
    "updates = []\n",
    "for pigeon in many_pigeon:\n",
    "    pigeon.age *= 3\n",
    "    updates += [pigeon]"
   ]
  },
  {
   "cell_type": "code",
   "execution_count": 317,
   "metadata": {},
   "outputs": [
    {
     "name": "stdout",
     "output_type": "stream",
     "text": [
      "10000\n",
      "UpdateOne({'_id': ObjectId('5c80c93b16fa0d6c102cab91')}, {'$set': {'name': 'pigeon', 'age': 0, 'is_able_to_fly': False, 'created': datetime.datetime(2019, 3, 7, 7, 27, 3, 190594, tzinfo=datetime.timezone.utc), 'updated': datetime.datetime(2019, 3, 7, 7, 33, 16, 491090, tzinfo=datetime.timezone.utc)}}, False)\n",
      "CPU times: user 600 ms, sys: 24 ms, total: 624 ms\n",
      "Wall time: 1.11 s\n"
     ]
    }
   ],
   "source": [
    "%%time\n",
    "print(len(updates))\n",
    "Bird.bulk_update(updates)"
   ]
  },
  {
   "cell_type": "markdown",
   "metadata": {},
   "source": [
    "Check if all ages are updated"
   ]
  },
  {
   "cell_type": "code",
   "execution_count": 319,
   "metadata": {},
   "outputs": [
    {
     "name": "stdout",
     "output_type": "stream",
     "text": [
      "CPU times: user 3.21 s, sys: 344 ms, total: 3.56 s\n",
      "Wall time: 4.81 s\n"
     ]
    }
   ],
   "source": [
    "%%time\n",
    "for i, pigeon in enumerate(many_pigeon):\n",
    "    check = Bird.findOne({'_id': pigeon._id})\n",
    "    assert check.age == i*3"
   ]
  },
  {
   "cell_type": "markdown",
   "metadata": {},
   "source": [
    "No error? Cool."
   ]
  },
  {
   "cell_type": "code",
   "execution_count": 320,
   "metadata": {},
   "outputs": [
    {
     "data": {
      "text/plain": [
       "10000"
      ]
     },
     "execution_count": 320,
     "metadata": {},
     "output_type": "execute_result"
    }
   ],
   "source": [
    "Bird.delete({'name': 'pigeon'})"
   ]
  },
  {
   "cell_type": "markdown",
   "metadata": {},
   "source": [
    "#### Multi Threading and Processing"
   ]
  },
  {
   "cell_type": "code",
   "execution_count": 294,
   "metadata": {},
   "outputs": [],
   "source": [
    "def breed(i):\n",
    "    try:\n",
    "        sparrow = Bird({'_id': ObjectId(), 'name': f'sparrow', 'age': 0})\n",
    "        sparrow.save()\n",
    "        sparrow.age += 1\n",
    "        sparrow.update()\n",
    "    except Exception as e:\n",
    "        print(f'Exception occured. {e} in thread {threading.current_thread()}')\n",
    "    else:\n",
    "        print(f'{i} saved in thread {threading.current_thread()}.')"
   ]
  },
  {
   "cell_type": "markdown",
   "metadata": {},
   "source": [
    "Threading (using the same memory space)\n",
    "\n",
    ">The threading module uses threads, the multiprocessing module uses processes. The difference is that threads run in the same memory space, while processes have separate memory. This makes it a bit harder to share objects between processes with multiprocessing. Since threads use the same memory, precautions have to be taken or two threads will write to the same memory at the same time. This is what the global interpreter lock is for.\n",
    "\n",
    "https://stackoverflow.com/questions/3044580/multiprocessing-vs-threading-python"
   ]
  },
  {
   "cell_type": "code",
   "execution_count": 295,
   "metadata": {},
   "outputs": [
    {
     "name": "stdout",
     "output_type": "stream",
     "text": [
      "0 saved in thread <Thread(breed sparrow 0, started 139852918023936)>.\n",
      "3 saved in thread <Thread(breed sparrow 3, started 139853274806016)>.\n",
      "2 saved in thread <Thread(breed sparrow 2, started 139853312554752)>.\n",
      "4 saved in thread <Thread(breed sparrow 4, started 139852389545728)>.\n",
      "1 saved in thread <Thread(breed sparrow 1, started 139853891618560)>.\n",
      "5 saved in thread <Thread(breed sparrow 5, started 139852381153024)>.\n",
      "6 saved in thread <Thread(breed sparrow 6, started 139852372760320)>.\n",
      "8 saved in thread <Thread(breed sparrow 8, started 139852918023936)>.\n",
      "7 saved in thread <Thread(breed sparrow 7, started 139852364367616)>.\n",
      "9 saved in thread <Thread(breed sparrow 9, started 139853274806016)>.\n",
      "11 saved in thread <Thread(breed sparrow 11, started 139853891618560)>.\n",
      "10 saved in thread <Thread(breed sparrow 10, started 139852389545728)>.\n",
      "13 saved in thread <Thread(breed sparrow 13, started 139852372760320)>.\n",
      "15 saved in thread <Thread(breed sparrow 15, started 139853312554752)>.\n",
      "12 saved in thread <Thread(breed sparrow 12, started 139852918023936)>.\n",
      "16 saved in thread <Thread(breed sparrow 16, started 139852364367616)>.\n",
      "18 saved in thread <Thread(breed sparrow 18, started 139853891618560)>.\n",
      "22 saved in thread <Thread(breed sparrow 22, started 139852918023936)>.\n",
      "17 saved in thread <Thread(breed sparrow 17, started 139852355974912)>.\n",
      "20 saved in thread <Thread(breed sparrow 20, started 139852389545728)>.\n",
      "14 saved in thread <Thread(breed sparrow 14, started 139852381153024)>.\n",
      "21 saved in thread <Thread(breed sparrow 21, started 139852364367616)>.\n",
      "19 saved in thread <Thread(breed sparrow 19, started 139853274806016)>.\n",
      "25 saved in thread <Thread(breed sparrow 25, started 139853891618560)>.\n",
      "26 saved in thread <Thread(breed sparrow 26, started 139852347582208)>.\n",
      "24 saved in thread <Thread(breed sparrow 24, started 139852372760320)>.\n",
      "23 saved in thread <Thread(breed sparrow 23, started 139853312554752)>.\n",
      "29 saved in thread <Thread(breed sparrow 29, started 139853312554752)>.\n",
      "28 saved in thread <Thread(breed sparrow 28, started 139852372760320)>.\n",
      "27 saved in thread <Thread(breed sparrow 27, started 139852381153024)>.\n",
      "30 saved in thread <Thread(breed sparrow 30, started 139852347582208)>.\n",
      "34 saved in thread <Thread(breed sparrow 34, started 139852919338752)>.\n",
      "31 saved in thread <Thread(breed sparrow 31, started 139853891618560)>.\n",
      "33 saved in thread <Thread(breed sparrow 33, started 139853312554752)>.\n",
      "35 saved in thread <Thread(breed sparrow 35, started 139852389545728)>.\n",
      "32 saved in thread <Thread(breed sparrow 32, started 139853274806016)>.\n",
      "38 saved in thread <Thread(breed sparrow 38, started 139852919338752)>.\n",
      "37 saved in thread <Thread(breed sparrow 37, started 139852364367616)>.\n",
      "36 saved in thread <Thread(breed sparrow 36, started 139852372760320)>.\n",
      "39 saved in thread <Thread(breed sparrow 39, started 139853891618560)>.\n",
      "40 saved in thread <Thread(breed sparrow 40, started 139853312554752)>.\n",
      "43 saved in thread <Thread(breed sparrow 43, started 139852372760320)>.\n",
      "42 saved in thread <Thread(breed sparrow 42, started 139853274806016)>.\n",
      "41 saved in thread <Thread(breed sparrow 41, started 139852389545728)>.\n",
      "45 saved in thread <Thread(breed sparrow 45, started 139853891618560)>.46 saved in thread <Thread(breed sparrow 46, started 139852919338752)>.\n",
      "\n",
      "44 saved in thread <Thread(breed sparrow 44, started 139852364367616)>.\n",
      "48 saved in thread <Thread(breed sparrow 48, started 139853274806016)>.\n",
      "47 saved in thread <Thread(breed sparrow 47, started 139853312554752)>.\n",
      "50 saved in thread <Thread(breed sparrow 50, started 139852372760320)>.\n",
      "54 saved in thread <Thread(breed sparrow 54, started 139852347582208)>.\n",
      "49 saved in thread <Thread(breed sparrow 49, started 139852389545728)>.\n",
      "51 saved in thread <Thread(breed sparrow 51, started 139853891618560)>.\n",
      "52 saved in thread <Thread(breed sparrow 52, started 139852919338752)>.\n",
      "55 saved in thread <Thread(breed sparrow 55, started 139853274806016)>.\n",
      "56 saved in thread <Thread(breed sparrow 56, started 139853312554752)>.\n",
      "58 saved in thread <Thread(breed sparrow 58, started 139853891618560)>.\n",
      "53 saved in thread <Thread(breed sparrow 53, started 139852364367616)>.\n",
      "59 saved in thread <Thread(breed sparrow 59, started 139852919338752)>.\n",
      "57 saved in thread <Thread(breed sparrow 57, started 139852381153024)>.\n",
      "61 saved in thread <Thread(breed sparrow 61, started 139852347582208)>.\n",
      "60 saved in thread <Thread(breed sparrow 60, started 139852389545728)>.\n",
      "62 saved in thread <Thread(breed sparrow 62, started 139853274806016)>.\n",
      "63 saved in thread <Thread(breed sparrow 63, started 139853312554752)>.\n",
      "65 saved in thread <Thread(breed sparrow 65, started 139852347582208)>.\n",
      "67 saved in thread <Thread(breed sparrow 67, started 139852364367616)>.\n",
      "66 saved in thread <Thread(breed sparrow 66, started 139852919338752)>.\n",
      "69 saved in thread <Thread(breed sparrow 69, started 139853312554752)>.\n",
      "72 saved in thread <Thread(breed sparrow 72, started 139852347582208)>.\n",
      "64 saved in thread <Thread(breed sparrow 64, started 139852381153024)>.\n",
      "74 saved in thread <Thread(breed sparrow 74, started 139852355974912)>.\n",
      "71 saved in thread <Thread(breed sparrow 71, started 139852389545728)>.\n",
      "75 saved in thread <Thread(breed sparrow 75, started 139852339189504)>.\n",
      "76 saved in thread <Thread(breed sparrow 76, started 139853312554752)>.\n",
      "70 saved in thread <Thread(breed sparrow 70, started 139853274806016)>.\n",
      "73 saved in thread <Thread(breed sparrow 73, started 139852372760320)>.\n",
      "68 saved in thread <Thread(breed sparrow 68, started 139853891618560)>.\n",
      "77 saved in thread <Thread(breed sparrow 77, started 139852364367616)>.\n",
      "78 saved in thread <Thread(breed sparrow 78, started 139852347582208)>.\n",
      "80 saved in thread <Thread(breed sparrow 80, started 139852381153024)>.\n",
      "82 saved in thread <Thread(breed sparrow 82, started 139852339189504)>.\n",
      "83 saved in thread <Thread(breed sparrow 83, started 139853312554752)>.\n",
      "79 saved in thread <Thread(breed sparrow 79, started 139852355974912)>.\n",
      "81 saved in thread <Thread(breed sparrow 81, started 139852919338752)>.\n",
      "84 saved in thread <Thread(breed sparrow 84, started 139852364367616)>.\n",
      "87 saved in thread <Thread(breed sparrow 87, started 139852355974912)>.\n",
      "85 saved in thread <Thread(breed sparrow 85, started 139853891618560)>.\n",
      "86 saved in thread <Thread(breed sparrow 86, started 139852381153024)>.\n",
      "88 saved in thread <Thread(breed sparrow 88, started 139853312554752)>.\n",
      "89 saved in thread <Thread(breed sparrow 89, started 139852919338752)>.\n",
      "90 saved in thread <Thread(breed sparrow 90, started 139852355974912)>.93 saved in thread <Thread(breed sparrow 93, started 139852381153024)>.\n",
      "92 saved in thread <Thread(breed sparrow 92, started 139853891618560)>.\n",
      "95 saved in thread <Thread(breed sparrow 95, started 139853312554752)>.\n",
      "\n",
      "91 saved in thread <Thread(breed sparrow 91, started 139852364367616)>.\n",
      "97 saved in thread <Thread(breed sparrow 97, started 139853274806016)>.\n",
      "94 saved in thread <Thread(breed sparrow 94, started 139852339189504)>.\n",
      "96 saved in thread <Thread(breed sparrow 96, started 139852347582208)>.\n",
      "98 saved in thread <Thread(breed sparrow 98, started 139852389545728)>.\n",
      "99 saved in thread <Thread(breed sparrow 99, started 139852919338752)>.\n",
      "100 saved in thread <Thread(breed sparrow 100, started 139853312554752)>.\n",
      "101 saved in thread <Thread(breed sparrow 101, started 139852364367616)>.\n",
      "103 saved in thread <Thread(breed sparrow 103, started 139852347582208)>.\n",
      "102 saved in thread <Thread(breed sparrow 102, started 139852355974912)>.\n",
      "107 saved in thread <Thread(breed sparrow 107, started 139852919338752)>.\n",
      "104 saved in thread <Thread(breed sparrow 104, started 139852339189504)>.\n",
      "106 saved in thread <Thread(breed sparrow 106, started 139853891618560)>.\n",
      "110 saved in thread <Thread(breed sparrow 110, started 139852355974912)>.\n",
      "105 saved in thread <Thread(breed sparrow 105, started 139853274806016)>.\n",
      "108 saved in thread <Thread(breed sparrow 108, started 139853312554752)>.\n",
      "112 saved in thread <Thread(breed sparrow 112, started 139853891618560)>.\n",
      "109 saved in thread <Thread(breed sparrow 109, started 139852364367616)>.\n",
      "111 saved in thread <Thread(breed sparrow 111, started 139852339189504)>.\n",
      "113 saved in thread <Thread(breed sparrow 113, started 139852355974912)>.\n",
      "114 saved in thread <Thread(breed sparrow 114, started 139853274806016)>.\n",
      "115 saved in thread <Thread(breed sparrow 115, started 139852919338752)>.\n",
      "117 saved in thread <Thread(breed sparrow 117, started 139853891618560)>.\n",
      "119 saved in thread <Thread(breed sparrow 119, started 139852355974912)>.\n",
      "118 saved in thread <Thread(breed sparrow 118, started 139852364367616)>.\n",
      "116 saved in thread <Thread(breed sparrow 116, started 139853312554752)>.\n",
      "120 saved in thread <Thread(breed sparrow 120, started 139853274806016)>.\n",
      "122 saved in thread <Thread(breed sparrow 122, started 139852339189504)>.\n",
      "121 saved in thread <Thread(breed sparrow 121, started 139852919338752)>.\n",
      "124 saved in thread <Thread(breed sparrow 124, started 139852355974912)>.\n",
      "123 saved in thread <Thread(breed sparrow 123, started 139852364367616)>.\n",
      "128 saved in thread <Thread(breed sparrow 128, started 139852339189504)>.\n",
      "129 saved in thread <Thread(breed sparrow 129, started 139852347582208)>.\n",
      "125 saved in thread <Thread(breed sparrow 125, started 139853274806016)>.\n",
      "127 saved in thread <Thread(breed sparrow 127, started 139853891618560)>.\n",
      "126 saved in thread <Thread(breed sparrow 126, started 139853312554752)>.\n",
      "132 saved in thread <Thread(breed sparrow 132, started 139852919338752)>.\n",
      "130 saved in thread <Thread(breed sparrow 130, started 139852364367616)>.\n",
      "131 saved in thread <Thread(breed sparrow 131, started 139852355974912)>.\n",
      "134 saved in thread <Thread(breed sparrow 134, started 139852381153024)>.\n",
      "133 saved in thread <Thread(breed sparrow 133, started 139852389545728)>.\n",
      "135 saved in thread <Thread(breed sparrow 135, started 139852339189504)>.\n",
      "137 saved in thread <Thread(breed sparrow 137, started 139853312554752)>.\n",
      "141 saved in thread <Thread(breed sparrow 141, started 139852355974912)>.\n",
      "139 saved in thread <Thread(breed sparrow 139, started 139853891618560)>.\n",
      "138 saved in thread <Thread(breed sparrow 138, started 139852364367616)>.\n",
      "143 saved in thread <Thread(breed sparrow 143, started 139852381153024)>.\n",
      "142 saved in thread <Thread(breed sparrow 142, started 139852372760320)>.\n",
      "136 saved in thread <Thread(breed sparrow 136, started 139852919338752)>.\n",
      "140 saved in thread <Thread(breed sparrow 140, started 139853274806016)>.\n",
      "144 saved in thread <Thread(breed sparrow 144, started 139852347582208)>.\n",
      "145 saved in thread <Thread(breed sparrow 145, started 139852339189504)>.\n",
      "146 saved in thread <Thread(breed sparrow 146, started 139852355974912)>.\n",
      "147 saved in thread <Thread(breed sparrow 147, started 139852381153024)>.\n",
      "149 saved in thread <Thread(breed sparrow 149, started 139852919338752)>.\n",
      "154 saved in thread <Thread(breed sparrow 154, started 139853891618560)>.\n",
      "150 saved in thread <Thread(breed sparrow 150, started 139852372760320)>.\n",
      "148 saved in thread <Thread(breed sparrow 148, started 139853274806016)>.\n",
      "155 saved in thread <Thread(breed sparrow 155, started 139853312554752)>.\n",
      "151 saved in thread <Thread(breed sparrow 151, started 139852347582208)>.\n",
      "156 saved in thread <Thread(breed sparrow 156, started 139852919338752)>.\n",
      "152 saved in thread <Thread(breed sparrow 152, started 139852364367616)>.\n",
      "157 saved in thread <Thread(breed sparrow 157, started 139853891618560)>.\n",
      "159 saved in thread <Thread(breed sparrow 159, started 139852372760320)>.\n",
      "158 saved in thread <Thread(breed sparrow 158, started 139853274806016)>.\n",
      "153 saved in thread <Thread(breed sparrow 153, started 139852339189504)>.\n",
      "160 saved in thread <Thread(breed sparrow 160, started 139853312554752)>.\n",
      "162 saved in thread <Thread(breed sparrow 162, started 139852364367616)>.\n",
      "161 saved in thread <Thread(breed sparrow 161, started 139852919338752)>.\n",
      "165 saved in thread <Thread(breed sparrow 165, started 139853274806016)>.\n",
      "163 saved in thread <Thread(breed sparrow 163, started 139852347582208)>.\n",
      "164 saved in thread <Thread(breed sparrow 164, started 139852339189504)>.\n",
      "169 saved in thread <Thread(breed sparrow 169, started 139852372760320)>.\n",
      "168 saved in thread <Thread(breed sparrow 168, started 139852364367616)>.\n",
      "173 saved in thread <Thread(breed sparrow 173, started 139852339189504)>.\n",
      "166 saved in thread <Thread(breed sparrow 166, started 139853312554752)>.\n",
      "172 saved in thread <Thread(breed sparrow 172, started 139852347582208)>.\n",
      "170 saved in thread <Thread(breed sparrow 170, started 139853274806016)>.174 saved in thread <Thread(breed sparrow 174, started 139852389545728)>.\n",
      "\n",
      "167 saved in thread <Thread(breed sparrow 167, started 139852919338752)>.171 saved in thread <Thread(breed sparrow 171, started 139853891618560)>.\n",
      "\n",
      "175 saved in thread <Thread(breed sparrow 175, started 139852372760320)>.\n",
      "182 saved in thread <Thread(breed sparrow 182, started 139852389545728)>.\n",
      "179 saved in thread <Thread(breed sparrow 179, started 139852372760320)>.\n",
      "183 saved in thread <Thread(breed sparrow 183, started 139853312554752)>.\n",
      "178 saved in thread <Thread(breed sparrow 178, started 139852919338752)>.\n",
      "176 saved in thread <Thread(breed sparrow 176, started 139852364367616)>.\n",
      "177 saved in thread <Thread(breed sparrow 177, started 139852347582208)>.\n",
      "180 saved in thread <Thread(breed sparrow 180, started 139853891618560)>.\n",
      "184 saved in thread <Thread(breed sparrow 184, started 139852381153024)>.\n",
      "181 saved in thread <Thread(breed sparrow 181, started 139853274806016)>.\n",
      "186 saved in thread <Thread(breed sparrow 186, started 139852919338752)>.\n",
      "185 saved in thread <Thread(breed sparrow 185, started 139852372760320)>.\n",
      "187 saved in thread <Thread(breed sparrow 187, started 139853312554752)>.\n",
      "188 saved in thread <Thread(breed sparrow 188, started 139852347582208)>.\n",
      "189 saved in thread <Thread(breed sparrow 189, started 139852364367616)>.\n",
      "190 saved in thread <Thread(breed sparrow 190, started 139853891618560)>.\n",
      "191 saved in thread <Thread(breed sparrow 191, started 139852919338752)>.\n",
      "193 saved in thread <Thread(breed sparrow 193, started 139852364367616)>.\n",
      "194 saved in thread <Thread(breed sparrow 194, started 139853891618560)>.\n",
      "192 saved in thread <Thread(breed sparrow 192, started 139853312554752)>.\n",
      "195 saved in thread <Thread(breed sparrow 195, started 139852347582208)>.\n",
      "196 saved in thread <Thread(breed sparrow 196, started 139852372760320)>.\n",
      "200 saved in thread <Thread(breed sparrow 200, started 139852919338752)>.\n",
      "197 saved in thread <Thread(breed sparrow 197, started 139853274806016)>.\n",
      "199 saved in thread <Thread(breed sparrow 199, started 139852381153024)>.\n",
      "201 saved in thread <Thread(breed sparrow 201, started 139853891618560)>.\n",
      "198 saved in thread <Thread(breed sparrow 198, started 139852389545728)>.\n",
      "202 saved in thread <Thread(breed sparrow 202, started 139852364367616)>.\n",
      "203 saved in thread <Thread(breed sparrow 203, started 139852919338752)>.\n",
      "207 saved in thread <Thread(breed sparrow 207, started 139852347582208)>.\n",
      "206 saved in thread <Thread(breed sparrow 206, started 139852372760320)>.\n",
      "208 saved in thread <Thread(breed sparrow 208, started 139853312554752)>.\n",
      "204 saved in thread <Thread(breed sparrow 204, started 139853274806016)>.\n",
      "209 saved in thread <Thread(breed sparrow 209, started 139852389545728)>.\n",
      "210 saved in thread <Thread(breed sparrow 210, started 139852364367616)>.\n",
      "205 saved in thread <Thread(breed sparrow 205, started 139852381153024)>.\n",
      "211 saved in thread <Thread(breed sparrow 211, started 139852347582208)>.\n",
      "212 saved in thread <Thread(breed sparrow 212, started 139852919338752)>.\n",
      "214 saved in thread <Thread(breed sparrow 214, started 139852389545728)>.\n",
      "216 saved in thread <Thread(breed sparrow 216, started 139853274806016)>.\n",
      "215 saved in thread <Thread(breed sparrow 215, started 139852364367616)>.\n",
      "213 saved in thread <Thread(breed sparrow 213, started 139853312554752)>.\n",
      "217 saved in thread <Thread(breed sparrow 217, started 139852372760320)>.\n",
      "223 saved in thread <Thread(breed sparrow 223, started 139853312554752)>.\n",
      "218 saved in thread <Thread(breed sparrow 218, started 139853891618560)>.\n",
      "220 saved in thread <Thread(breed sparrow 220, started 139852355974912)>.\n",
      "219 saved in thread <Thread(breed sparrow 219, started 139852381153024)>.\n",
      "222 saved in thread <Thread(breed sparrow 222, started 139853274806016)>.\n",
      "225 saved in thread <Thread(breed sparrow 225, started 139852389545728)>.\n",
      "226 saved in thread <Thread(breed sparrow 226, started 139852919338752)>.\n",
      "227 saved in thread <Thread(breed sparrow 227, started 139852339189504)>.\n",
      "224 saved in thread <Thread(breed sparrow 224, started 139852364367616)>.\n",
      "228 saved in thread <Thread(breed sparrow 228, started 139852255328000)>.\n",
      "232 saved in thread <Thread(breed sparrow 232, started 139852919338752)>.\n"
     ]
    },
    {
     "name": "stdout",
     "output_type": "stream",
     "text": [
      "231 saved in thread <Thread(breed sparrow 231, started 139852381153024)>.\n",
      "221 saved in thread <Thread(breed sparrow 221, started 139852347582208)>.\n",
      "229 saved in thread <Thread(breed sparrow 229, started 139852372760320)>.\n",
      "234 saved in thread <Thread(breed sparrow 234, started 139852339189504)>.\n",
      "233 saved in thread <Thread(breed sparrow 233, started 139852364367616)>.\n",
      "230 saved in thread <Thread(breed sparrow 230, started 139853312554752)>.\n",
      "240 saved in thread <Thread(breed sparrow 240, started 139852347582208)>.\n",
      "236 saved in thread <Thread(breed sparrow 236, started 139852919338752)>.\n",
      "238 saved in thread <Thread(breed sparrow 238, started 139853274806016)>.\n",
      "237 saved in thread <Thread(breed sparrow 237, started 139852389545728)>.\n",
      "239 saved in thread <Thread(breed sparrow 239, started 139852381153024)>.\n",
      "235 saved in thread <Thread(breed sparrow 235, started 139852255328000)>.\n",
      "242 saved in thread <Thread(breed sparrow 242, started 139852339189504)>.241 saved in thread <Thread(breed sparrow 241, started 139852372760320)>.\n",
      "\n",
      "247 saved in thread <Thread(breed sparrow 247, started 139853312554752)>.\n",
      "244 saved in thread <Thread(breed sparrow 244, started 139853891618560)>.\n",
      "246 saved in thread <Thread(breed sparrow 246, started 139852347582208)>.\n",
      "245 saved in thread <Thread(breed sparrow 245, started 139852919338752)>.\n",
      "243 saved in thread <Thread(breed sparrow 243, started 139852364367616)>.\n",
      "248 saved in thread <Thread(breed sparrow 248, started 139852355974912)>.\n",
      "250 saved in thread <Thread(breed sparrow 250, started 139852381153024)>.\n",
      "249 saved in thread <Thread(breed sparrow 249, started 139852255328000)>.\n",
      "252 saved in thread <Thread(breed sparrow 252, started 139852372760320)>.\n",
      "251 saved in thread <Thread(breed sparrow 251, started 139852389545728)>.\n",
      "253 saved in thread <Thread(breed sparrow 253, started 139853274806016)>.\n",
      "254 saved in thread <Thread(breed sparrow 254, started 139852246935296)>.\n",
      "256 saved in thread <Thread(breed sparrow 256, started 139852372760320)>.\n",
      "257 saved in thread <Thread(breed sparrow 257, started 139852255328000)>.\n",
      "255 saved in thread <Thread(breed sparrow 255, started 139852355974912)>.\n",
      "260 saved in thread <Thread(breed sparrow 260, started 139852381153024)>.\n",
      "259 saved in thread <Thread(breed sparrow 259, started 139852389545728)>.\n",
      "258 saved in thread <Thread(breed sparrow 258, started 139853274806016)>.\n",
      "261 saved in thread <Thread(breed sparrow 261, started 139852372760320)>.\n",
      "263 saved in thread <Thread(breed sparrow 263, started 139852255328000)>.\n",
      "266 saved in thread <Thread(breed sparrow 266, started 139853891618560)>.\n",
      "264 saved in thread <Thread(breed sparrow 264, started 139852355974912)>.262 saved in thread <Thread(breed sparrow 262, started 139852246935296)>.\n",
      "\n",
      "269 saved in thread <Thread(breed sparrow 269, started 139852381153024)>.\n",
      "267 saved in thread <Thread(breed sparrow 267, started 139853274806016)>.\n",
      "265 saved in thread <Thread(breed sparrow 265, started 139852364367616)>.\n",
      "270 saved in thread <Thread(breed sparrow 270, started 139852355974912)>.\n",
      "271 saved in thread <Thread(breed sparrow 271, started 139852246935296)>.\n",
      "268 saved in thread <Thread(breed sparrow 268, started 139852389545728)>.\n",
      "272 saved in thread <Thread(breed sparrow 272, started 139852381153024)>.\n",
      "276 saved in thread <Thread(breed sparrow 276, started 139852389545728)>.\n",
      "273 saved in thread <Thread(breed sparrow 273, started 139852364367616)>.\n",
      "275 saved in thread <Thread(breed sparrow 275, started 139852355974912)>.\n",
      "277 saved in thread <Thread(breed sparrow 277, started 139852381153024)>.\n",
      "274 saved in thread <Thread(breed sparrow 274, started 139852246935296)>.\n",
      "278 saved in thread <Thread(breed sparrow 278, started 139853274806016)>.\n",
      "279 saved in thread <Thread(breed sparrow 279, started 139853891618560)>.\n",
      "280 saved in thread <Thread(breed sparrow 280, started 139853312554752)>.282 saved in thread <Thread(breed sparrow 282, started 139853891618560)>.\n",
      "\n",
      "281 saved in thread <Thread(breed sparrow 281, started 139852389545728)>.\n",
      "284 saved in thread <Thread(breed sparrow 284, started 139852246935296)>.\n",
      "283 saved in thread <Thread(breed sparrow 283, started 139853274806016)>.\n",
      "287 saved in thread <Thread(breed sparrow 287, started 139852389545728)>.\n",
      "285 saved in thread <Thread(breed sparrow 285, started 139852381153024)>.\n",
      "286 saved in thread <Thread(breed sparrow 286, started 139852919338752)>.\n",
      "288 saved in thread <Thread(breed sparrow 288, started 139853312554752)>.\n",
      "290 saved in thread <Thread(breed sparrow 290, started 139852381153024)>.\n",
      "292 saved in thread <Thread(breed sparrow 292, started 139853274806016)>.\n",
      "289 saved in thread <Thread(breed sparrow 289, started 139852389545728)>.\n",
      "291 saved in thread <Thread(breed sparrow 291, started 139852919338752)>.\n",
      "293 saved in thread <Thread(breed sparrow 293, started 139852246935296)>.\n",
      "295 saved in thread <Thread(breed sparrow 295, started 139852381153024)>.\n",
      "296 saved in thread <Thread(breed sparrow 296, started 139853312554752)>.\n",
      "294 saved in thread <Thread(breed sparrow 294, started 139853891618560)>.\n",
      "297 saved in thread <Thread(breed sparrow 297, started 139852372760320)>.\n",
      "298 saved in thread <Thread(breed sparrow 298, started 139852364367616)>.\n",
      "299 saved in thread <Thread(breed sparrow 299, started 139852389545728)>.\n",
      "301 saved in thread <Thread(breed sparrow 301, started 139853312554752)>.\n",
      "300 saved in thread <Thread(breed sparrow 300, started 139852919338752)>.\n",
      "304 saved in thread <Thread(breed sparrow 304, started 139852389545728)>.\n",
      "303 saved in thread <Thread(breed sparrow 303, started 139853891618560)>.\n",
      "302 saved in thread <Thread(breed sparrow 302, started 139852372760320)>.\n",
      "305 saved in thread <Thread(breed sparrow 305, started 139852364367616)>.\n",
      "309 saved in thread <Thread(breed sparrow 309, started 139852246935296)>.\n",
      "308 saved in thread <Thread(breed sparrow 308, started 139852919338752)>.\n",
      "310 saved in thread <Thread(breed sparrow 310, started 139852389545728)>.\n",
      "306 saved in thread <Thread(breed sparrow 306, started 139852381153024)>.\n",
      "311 saved in thread <Thread(breed sparrow 311, started 139852364367616)>.\n",
      "307 saved in thread <Thread(breed sparrow 307, started 139853312554752)>.\n",
      "313 saved in thread <Thread(breed sparrow 313, started 139853891618560)>.\n",
      "315 saved in thread <Thread(breed sparrow 315, started 139852355974912)>.\n",
      "316 saved in thread <Thread(breed sparrow 316, started 139852347582208)>.\n",
      "312 saved in thread <Thread(breed sparrow 312, started 139852372760320)>.\n",
      "314 saved in thread <Thread(breed sparrow 314, started 139853274806016)>.\n",
      "317 saved in thread <Thread(breed sparrow 317, started 139852246935296)>.\n",
      "319 saved in thread <Thread(breed sparrow 319, started 139852339189504)>.\n",
      "321 saved in thread <Thread(breed sparrow 321, started 139852372760320)>.\n",
      "322 saved in thread <Thread(breed sparrow 322, started 139852347582208)>.\n",
      "320 saved in thread <Thread(breed sparrow 320, started 139853891618560)>.\n",
      "318 saved in thread <Thread(breed sparrow 318, started 139852919338752)>.\n",
      "323 saved in thread <Thread(breed sparrow 323, started 139853274806016)>.\n",
      "324 saved in thread <Thread(breed sparrow 324, started 139852246935296)>.\n",
      "325 saved in thread <Thread(breed sparrow 325, started 139852339189504)>.\n",
      "327 saved in thread <Thread(breed sparrow 327, started 139852347582208)>.\n",
      "326 saved in thread <Thread(breed sparrow 326, started 139852372760320)>.\n",
      "329 saved in thread <Thread(breed sparrow 329, started 139853274806016)>.\n",
      "330 saved in thread <Thread(breed sparrow 330, started 139852246935296)>.\n",
      "328 saved in thread <Thread(breed sparrow 328, started 139852919338752)>.\n",
      "335 saved in thread <Thread(breed sparrow 335, started 139852372760320)>.\n",
      "334 saved in thread <Thread(breed sparrow 334, started 139852389545728)>.\n",
      "332 saved in thread <Thread(breed sparrow 332, started 139852355974912)>.\n",
      "331 saved in thread <Thread(breed sparrow 331, started 139853891618560)>.\n",
      "333 saved in thread <Thread(breed sparrow 333, started 139853312554752)>.\n",
      "336 saved in thread <Thread(breed sparrow 336, started 139852246935296)>.\n",
      "337 saved in thread <Thread(breed sparrow 337, started 139853891618560)>.\n",
      "341 saved in thread <Thread(breed sparrow 341, started 139852372760320)>.\n",
      "338 saved in thread <Thread(breed sparrow 338, started 139853312554752)>.\n",
      "343 saved in thread <Thread(breed sparrow 343, started 139853891618560)>.\n",
      "339 saved in thread <Thread(breed sparrow 339, started 139852355974912)>.\n",
      "342 saved in thread <Thread(breed sparrow 342, started 139852246935296)>.\n",
      "340 saved in thread <Thread(breed sparrow 340, started 139852389545728)>.\n",
      "347 saved in thread <Thread(breed sparrow 347, started 139853891618560)>.\n",
      "344 saved in thread <Thread(breed sparrow 344, started 139853312554752)>.\n",
      "346 saved in thread <Thread(breed sparrow 346, started 139853274806016)>.\n",
      "348 saved in thread <Thread(breed sparrow 348, started 139852355974912)>.\n",
      "350 saved in thread <Thread(breed sparrow 350, started 139852389545728)>.\n",
      "349 saved in thread <Thread(breed sparrow 349, started 139852919338752)>.\n",
      "345 saved in thread <Thread(breed sparrow 345, started 139852372760320)>.\n",
      "352 saved in thread <Thread(breed sparrow 352, started 139853274806016)>.\n",
      "353 saved in thread <Thread(breed sparrow 353, started 139853312554752)>.\n",
      "351 saved in thread <Thread(breed sparrow 351, started 139852355974912)>.\n",
      "355 saved in thread <Thread(breed sparrow 355, started 139852381153024)>.\n",
      "354 saved in thread <Thread(breed sparrow 354, started 139853891618560)>.\n",
      "358 saved in thread <Thread(breed sparrow 358, started 139853274806016)>.\n"
     ]
    },
    {
     "name": "stdout",
     "output_type": "stream",
     "text": [
      "356 saved in thread <Thread(breed sparrow 356, started 139852389545728)>.\n",
      "360 saved in thread <Thread(breed sparrow 360, started 139852372760320)>.357 saved in thread <Thread(breed sparrow 357, started 139853312554752)>.\n",
      "\n",
      "362 saved in thread <Thread(breed sparrow 362, started 139853274806016)>.\n",
      "359 saved in thread <Thread(breed sparrow 359, started 139852355974912)>.\n",
      "364 saved in thread <Thread(breed sparrow 364, started 139852919338752)>.\n",
      "361 saved in thread <Thread(breed sparrow 361, started 139853891618560)>.\n",
      "363 saved in thread <Thread(breed sparrow 363, started 139852381153024)>.\n",
      "365 saved in thread <Thread(breed sparrow 365, started 139852364367616)>.\n",
      "367 saved in thread <Thread(breed sparrow 367, started 139852389545728)>.\n",
      "366 saved in thread <Thread(breed sparrow 366, started 139853312554752)>.\n",
      "368 saved in thread <Thread(breed sparrow 368, started 139853274806016)>.\n",
      "370 saved in thread <Thread(breed sparrow 370, started 139853891618560)>.\n",
      "371 saved in thread <Thread(breed sparrow 371, started 139852381153024)>.\n",
      "369 saved in thread <Thread(breed sparrow 369, started 139852355974912)>.\n",
      "372 saved in thread <Thread(breed sparrow 372, started 139852364367616)>.\n",
      "377 saved in thread <Thread(breed sparrow 377, started 139853891618560)>.\n",
      "373 saved in thread <Thread(breed sparrow 373, started 139852389545728)>.\n",
      "376 saved in thread <Thread(breed sparrow 376, started 139852919338752)>.\n",
      "378 saved in thread <Thread(breed sparrow 378, started 139852372760320)>.\n",
      "375 saved in thread <Thread(breed sparrow 375, started 139853274806016)>.\n",
      "374 saved in thread <Thread(breed sparrow 374, started 139853312554752)>.\n",
      "381 saved in thread <Thread(breed sparrow 381, started 139852364367616)>.\n",
      "379 saved in thread <Thread(breed sparrow 379, started 139852355974912)>.\n",
      "383 saved in thread <Thread(breed sparrow 383, started 139852372760320)>.\n",
      "382 saved in thread <Thread(breed sparrow 382, started 139852919338752)>.\n",
      "380 saved in thread <Thread(breed sparrow 380, started 139853891618560)>.\n",
      "384 saved in thread <Thread(breed sparrow 384, started 139852389545728)>.\n",
      "387 saved in thread <Thread(breed sparrow 387, started 139853312554752)>.\n",
      "385 saved in thread <Thread(breed sparrow 385, started 139853274806016)>.\n",
      "386 saved in thread <Thread(breed sparrow 386, started 139852364367616)>.\n",
      "388 saved in thread <Thread(breed sparrow 388, started 139852355974912)>.\n",
      "393 saved in thread <Thread(breed sparrow 393, started 139853312554752)>.\n",
      "389 saved in thread <Thread(breed sparrow 389, started 139852372760320)>.\n",
      "395 saved in thread <Thread(breed sparrow 395, started 139853274806016)>.\n",
      "390 saved in thread <Thread(breed sparrow 390, started 139852381153024)>.\n",
      "392 saved in thread <Thread(breed sparrow 392, started 139852919338752)>.\n",
      "398 saved in thread <Thread(breed sparrow 398, started 139852355974912)>.\n",
      "394 saved in thread <Thread(breed sparrow 394, started 139852364367616)>.\n",
      "396 saved in thread <Thread(breed sparrow 396, started 139852372760320)>.\n",
      "391 saved in thread <Thread(breed sparrow 391, started 139852347582208)>.\n",
      "399 saved in thread <Thread(breed sparrow 399, started 139852381153024)>.\n",
      "397 saved in thread <Thread(breed sparrow 397, started 139853312554752)>.\n",
      "401 saved in thread <Thread(breed sparrow 401, started 139852919338752)>.\n",
      "400 saved in thread <Thread(breed sparrow 400, started 139853274806016)>.\n",
      "403 saved in thread <Thread(breed sparrow 403, started 139852372760320)>.\n",
      "404 saved in thread <Thread(breed sparrow 404, started 139852364367616)>.\n",
      "402 saved in thread <Thread(breed sparrow 402, started 139852347582208)>.\n",
      "406 saved in thread <Thread(breed sparrow 406, started 139853312554752)>.\n",
      "407 saved in thread <Thread(breed sparrow 407, started 139852381153024)>.\n",
      "405 saved in thread <Thread(breed sparrow 405, started 139852355974912)>.408 saved in thread <Thread(breed sparrow 408, started 139852919338752)>.\n",
      "\n",
      "410 saved in thread <Thread(breed sparrow 410, started 139852347582208)>.\n",
      "409 saved in thread <Thread(breed sparrow 409, started 139853274806016)>.\n",
      "412 saved in thread <Thread(breed sparrow 412, started 139852381153024)>.\n",
      "411 saved in thread <Thread(breed sparrow 411, started 139852364367616)>.\n",
      "414 saved in thread <Thread(breed sparrow 414, started 139852919338752)>.\n",
      "413 saved in thread <Thread(breed sparrow 413, started 139853312554752)>.\n",
      "415 saved in thread <Thread(breed sparrow 415, started 139852381153024)>.\n",
      "417 saved in thread <Thread(breed sparrow 417, started 139853312554752)>.\n",
      "419 saved in thread <Thread(breed sparrow 419, started 139853274806016)>.\n",
      "418 saved in thread <Thread(breed sparrow 418, started 139852919338752)>.\n",
      "416 saved in thread <Thread(breed sparrow 416, started 139852364367616)>.\n",
      "420 saved in thread <Thread(breed sparrow 420, started 139852347582208)>.\n",
      "422 saved in thread <Thread(breed sparrow 422, started 139852389545728)>.\n",
      "421 saved in thread <Thread(breed sparrow 421, started 139853891618560)>.\n",
      "425 saved in thread <Thread(breed sparrow 425, started 139853274806016)>.\n",
      "423 saved in thread <Thread(breed sparrow 423, started 139852381153024)>.\n",
      "424 saved in thread <Thread(breed sparrow 424, started 139853312554752)>.\n",
      "426 saved in thread <Thread(breed sparrow 426, started 139852919338752)>.\n",
      "430 saved in thread <Thread(breed sparrow 430, started 139853312554752)>.\n",
      "429 saved in thread <Thread(breed sparrow 429, started 139852381153024)>.\n",
      "427 saved in thread <Thread(breed sparrow 427, started 139852347582208)>.\n",
      "433 saved in thread <Thread(breed sparrow 433, started 139852389545728)>.\n",
      "431 saved in thread <Thread(breed sparrow 431, started 139853274806016)>.\n",
      "432 saved in thread <Thread(breed sparrow 432, started 139853891618560)>.\n",
      "428 saved in thread <Thread(breed sparrow 428, started 139852364367616)>.\n",
      "434 saved in thread <Thread(breed sparrow 434, started 139853312554752)>.\n",
      "437 saved in thread <Thread(breed sparrow 437, started 139852347582208)>.\n",
      "436 saved in thread <Thread(breed sparrow 436, started 139852389545728)>.\n",
      "438 saved in thread <Thread(breed sparrow 438, started 139852381153024)>.\n",
      "439 saved in thread <Thread(breed sparrow 439, started 139852364367616)>.\n",
      "435 saved in thread <Thread(breed sparrow 435, started 139853274806016)>.\n",
      "440 saved in thread <Thread(breed sparrow 440, started 139853312554752)>.442 saved in thread <Thread(breed sparrow 442, started 139852347582208)>.\n",
      "\n",
      "441 saved in thread <Thread(breed sparrow 441, started 139853891618560)>.\n",
      "444 saved in thread <Thread(breed sparrow 444, started 139853274806016)>.443 saved in thread <Thread(breed sparrow 443, started 139852364367616)>.\n",
      "\n",
      "447 saved in thread <Thread(breed sparrow 447, started 139853312554752)>.\n",
      "446 saved in thread <Thread(breed sparrow 446, started 139853891618560)>.\n",
      "445 saved in thread <Thread(breed sparrow 445, started 139852381153024)>.\n",
      "448 saved in thread <Thread(breed sparrow 448, started 139852364367616)>.\n",
      "451 saved in thread <Thread(breed sparrow 451, started 139852389545728)>.\n",
      "450 saved in thread <Thread(breed sparrow 450, started 139852347582208)>.\n",
      "449 saved in thread <Thread(breed sparrow 449, started 139853274806016)>.\n",
      "454 saved in thread <Thread(breed sparrow 454, started 139852389545728)>.\n",
      "452 saved in thread <Thread(breed sparrow 452, started 139852919338752)>.\n",
      "453 saved in thread <Thread(breed sparrow 453, started 139853312554752)>.\n",
      "457 saved in thread <Thread(breed sparrow 457, started 139852364367616)>.\n",
      "455 saved in thread <Thread(breed sparrow 455, started 139853274806016)>.\n",
      "456 saved in thread <Thread(breed sparrow 456, started 139852347582208)>.\n",
      "462 saved in thread <Thread(breed sparrow 462, started 139853891618560)>.\n",
      "461 saved in thread <Thread(breed sparrow 461, started 139852381153024)>.\n",
      "464 saved in thread <Thread(breed sparrow 464, started 139853274806016)>.\n",
      "458 saved in thread <Thread(breed sparrow 458, started 139852389545728)>.\n",
      "459 saved in thread <Thread(breed sparrow 459, started 139852919338752)>.\n",
      "460 saved in thread <Thread(breed sparrow 460, started 139853312554752)>.\n",
      "465 saved in thread <Thread(breed sparrow 465, started 139852364367616)>.\n",
      "463 saved in thread <Thread(breed sparrow 463, started 139852372760320)>.\n",
      "472 saved in thread <Thread(breed sparrow 472, started 139852381153024)>.\n",
      "470 saved in thread <Thread(breed sparrow 470, started 139852389545728)>.\n",
      "467 saved in thread <Thread(breed sparrow 467, started 139852919338752)>.\n",
      "468 saved in thread <Thread(breed sparrow 468, started 139852364367616)>.\n",
      "471 saved in thread <Thread(breed sparrow 471, started 139853274806016)>.\n",
      "466 saved in thread <Thread(breed sparrow 466, started 139853891618560)>.\n",
      "473 saved in thread <Thread(breed sparrow 473, started 139852355974912)>.\n",
      "469 saved in thread <Thread(breed sparrow 469, started 139853312554752)>.\n",
      "475 saved in thread <Thread(breed sparrow 475, started 139852372760320)>.\n",
      "474 saved in thread <Thread(breed sparrow 474, started 139852381153024)>.\n",
      "478 saved in thread <Thread(breed sparrow 478, started 139853891618560)>.\n",
      "476 saved in thread <Thread(breed sparrow 476, started 139852919338752)>.479 saved in thread <Thread(breed sparrow 479, started 139853274806016)>.\n",
      "\n",
      "477 saved in thread <Thread(breed sparrow 477, started 139852364367616)>.\n",
      "483 saved in thread <Thread(breed sparrow 483, started 139852347582208)>.\n",
      "480 saved in thread <Thread(breed sparrow 480, started 139852389545728)>.\n",
      "481 saved in thread <Thread(breed sparrow 481, started 139853312554752)>.\n",
      "486 saved in thread <Thread(breed sparrow 486, started 139852372760320)>.\n",
      "484 saved in thread <Thread(breed sparrow 484, started 139853891618560)>.\n",
      "488 saved in thread <Thread(breed sparrow 488, started 139852364367616)>.\n",
      "485 saved in thread <Thread(breed sparrow 485, started 139852381153024)>.\n"
     ]
    },
    {
     "name": "stdout",
     "output_type": "stream",
     "text": [
      "490 saved in thread <Thread(breed sparrow 490, started 139852339189504)>.\n",
      "482 saved in thread <Thread(breed sparrow 482, started 139852355974912)>.\n",
      "489 saved in thread <Thread(breed sparrow 489, started 139853274806016)>.\n",
      "491 saved in thread <Thread(breed sparrow 491, started 139852347582208)>.\n",
      "492 saved in thread <Thread(breed sparrow 492, started 139852389545728)>.\n",
      "494 saved in thread <Thread(breed sparrow 494, started 139852255328000)>.\n",
      "487 saved in thread <Thread(breed sparrow 487, started 139852919338752)>.\n",
      "493 saved in thread <Thread(breed sparrow 493, started 139853312554752)>.\n",
      "495 saved in thread <Thread(breed sparrow 495, started 139852339189504)>.\n",
      "496 saved in thread <Thread(breed sparrow 496, started 139853274806016)>.\n",
      "497 saved in thread <Thread(breed sparrow 497, started 139852347582208)>.\n",
      "500 saved in thread <Thread(breed sparrow 500, started 139852919338752)>.\n",
      "498 saved in thread <Thread(breed sparrow 498, started 139852355974912)>.\n",
      "501 saved in thread <Thread(breed sparrow 501, started 139852339189504)>.\n",
      "502 saved in thread <Thread(breed sparrow 502, started 139853312554752)>.\n",
      "499 saved in thread <Thread(breed sparrow 499, started 139852255328000)>.504 saved in thread <Thread(breed sparrow 504, started 139852347582208)>.\n",
      "503 saved in thread <Thread(breed sparrow 503, started 139853274806016)>.\n",
      "\n",
      "505 saved in thread <Thread(breed sparrow 505, started 139852339189504)>.\n",
      "507 saved in thread <Thread(breed sparrow 507, started 139853274806016)>.\n",
      "509 saved in thread <Thread(breed sparrow 509, started 139853312554752)>.\n",
      "506 saved in thread <Thread(breed sparrow 506, started 139852347582208)>.\n",
      "508 saved in thread <Thread(breed sparrow 508, started 139852255328000)>.\n",
      "512 saved in thread <Thread(breed sparrow 512, started 139853274806016)>.\n",
      "510 saved in thread <Thread(breed sparrow 510, started 139852355974912)>.514 saved in thread <Thread(breed sparrow 514, started 139852919338752)>.\n",
      "511 saved in thread <Thread(breed sparrow 511, started 139853891618560)>.\n",
      "\n",
      "515 saved in thread <Thread(breed sparrow 515, started 139852347582208)>.\n",
      "513 saved in thread <Thread(breed sparrow 513, started 139852339189504)>.\n",
      "516 saved in thread <Thread(breed sparrow 516, started 139852255328000)>.\n",
      "518 saved in thread <Thread(breed sparrow 518, started 139852339189504)>.\n",
      "517 saved in thread <Thread(breed sparrow 517, started 139852919338752)>.\n",
      "519 saved in thread <Thread(breed sparrow 519, started 139852355974912)>.\n",
      "520 saved in thread <Thread(breed sparrow 520, started 139852347582208)>.\n",
      "521 saved in thread <Thread(breed sparrow 521, started 139852255328000)>.\n",
      "522 saved in thread <Thread(breed sparrow 522, started 139853891618560)>.\n",
      "524 saved in thread <Thread(breed sparrow 524, started 139852355974912)>.\n",
      "523 saved in thread <Thread(breed sparrow 523, started 139852919338752)>.\n",
      "530 saved in thread <Thread(breed sparrow 530, started 139853891618560)>.\n",
      "529 saved in thread <Thread(breed sparrow 529, started 139852255328000)>.\n",
      "527 saved in thread <Thread(breed sparrow 527, started 139853274806016)>.\n",
      "528 saved in thread <Thread(breed sparrow 528, started 139852347582208)>.\n",
      "525 saved in thread <Thread(breed sparrow 525, started 139852339189504)>.\n",
      "526 saved in thread <Thread(breed sparrow 526, started 139853312554752)>.\n",
      "533 saved in thread <Thread(breed sparrow 533, started 139852372760320)>.\n",
      "532 saved in thread <Thread(breed sparrow 532, started 139852381153024)>.\n",
      "535 saved in thread <Thread(breed sparrow 535, started 139852919338752)>.\n",
      "536 saved in thread <Thread(breed sparrow 536, started 139852355974912)>.\n",
      "531 saved in thread <Thread(breed sparrow 531, started 139852389545728)>.\n",
      "539 saved in thread <Thread(breed sparrow 539, started 139852255328000)>.\n",
      "534 saved in thread <Thread(breed sparrow 534, started 139852364367616)>.\n",
      "537 saved in thread <Thread(breed sparrow 537, started 139852246935296)>.\n",
      "538 saved in thread <Thread(breed sparrow 538, started 139853274806016)>.\n",
      "540 saved in thread <Thread(breed sparrow 540, started 139853891618560)>.\n",
      "541 saved in thread <Thread(breed sparrow 541, started 139852919338752)>.\n",
      "543 saved in thread <Thread(breed sparrow 543, started 139852389545728)>.\n",
      "545 saved in thread <Thread(breed sparrow 545, started 139852255328000)>.\n",
      "542 saved in thread <Thread(breed sparrow 542, started 139852355974912)>.\n",
      "544 saved in thread <Thread(breed sparrow 544, started 139852364367616)>.\n",
      "550 saved in thread <Thread(breed sparrow 550, started 139852919338752)>.\n",
      "547 saved in thread <Thread(breed sparrow 547, started 139852246935296)>.\n",
      "546 saved in thread <Thread(breed sparrow 546, started 139853274806016)>.\n",
      "552 saved in thread <Thread(breed sparrow 552, started 139852372760320)>.\n",
      "549 saved in thread <Thread(breed sparrow 549, started 139852381153024)>.\n",
      "551 saved in thread <Thread(breed sparrow 551, started 139852389545728)>.\n",
      "548 saved in thread <Thread(breed sparrow 548, started 139853891618560)>.\n",
      "553 saved in thread <Thread(breed sparrow 553, started 139852355974912)>.\n",
      "555 saved in thread <Thread(breed sparrow 555, started 139852372760320)>.\n",
      "558 saved in thread <Thread(breed sparrow 558, started 139852246935296)>.\n",
      "556 saved in thread <Thread(breed sparrow 556, started 139852389545728)>.\n",
      "554 saved in thread <Thread(breed sparrow 554, started 139853274806016)>.\n",
      "557 saved in thread <Thread(breed sparrow 557, started 139852381153024)>.\n",
      "560 saved in thread <Thread(breed sparrow 560, started 139852355974912)>.\n",
      "559 saved in thread <Thread(breed sparrow 559, started 139853891618560)>.\n",
      "562 saved in thread <Thread(breed sparrow 562, started 139852355974912)>.\n",
      "561 saved in thread <Thread(breed sparrow 561, started 139853274806016)>.\n",
      "564 saved in thread <Thread(breed sparrow 564, started 139852389545728)>.\n",
      "563 saved in thread <Thread(breed sparrow 563, started 139852381153024)>.\n",
      "565 saved in thread <Thread(breed sparrow 565, started 139852246935296)>.\n",
      "566 saved in thread <Thread(breed sparrow 566, started 139852355974912)>.\n",
      "567 saved in thread <Thread(breed sparrow 567, started 139853274806016)>.\n",
      "571 saved in thread <Thread(breed sparrow 571, started 139853312554752)>.\n",
      "572 saved in thread <Thread(breed sparrow 572, started 139852919338752)>.\n",
      "569 saved in thread <Thread(breed sparrow 569, started 139852389545728)>.\n",
      "570 saved in thread <Thread(breed sparrow 570, started 139852381153024)>.\n",
      "568 saved in thread <Thread(breed sparrow 568, started 139853891618560)>.\n",
      "573 saved in thread <Thread(breed sparrow 573, started 139853274806016)>.\n",
      "574 saved in thread <Thread(breed sparrow 574, started 139853312554752)>.\n",
      "576 saved in thread <Thread(breed sparrow 576, started 139853891618560)>.\n",
      "575 saved in thread <Thread(breed sparrow 575, started 139852919338752)>.\n",
      "580 saved in thread <Thread(breed sparrow 580, started 139852246935296)>.\n",
      "578 saved in thread <Thread(breed sparrow 578, started 139852381153024)>.\n",
      "577 saved in thread <Thread(breed sparrow 577, started 139853274806016)>.\n",
      "579 saved in thread <Thread(breed sparrow 579, started 139852389545728)>.\n",
      "581 saved in thread <Thread(breed sparrow 581, started 139853312554752)>.\n",
      "585 saved in thread <Thread(breed sparrow 585, started 139852246935296)>.\n",
      "582 saved in thread <Thread(breed sparrow 582, started 139853891618560)>.\n",
      "583 saved in thread <Thread(breed sparrow 583, started 139852919338752)>.\n",
      "586 saved in thread <Thread(breed sparrow 586, started 139853274806016)>.\n",
      "592 saved in thread <Thread(breed sparrow 592, started 139852355974912)>.\n",
      "584 saved in thread <Thread(breed sparrow 584, started 139852381153024)>.\n",
      "587 saved in thread <Thread(breed sparrow 587, started 139852372760320)>.\n",
      "589 saved in thread <Thread(breed sparrow 589, started 139852389545728)>.\n",
      "590 saved in thread <Thread(breed sparrow 590, started 139852246935296)>.\n",
      "591 saved in thread <Thread(breed sparrow 591, started 139852364367616)>.588 saved in thread <Thread(breed sparrow 588, started 139853312554752)>.\n",
      "\n",
      "597 saved in thread <Thread(breed sparrow 597, started 139852372760320)>.\n",
      "598 saved in thread <Thread(breed sparrow 598, started 139852389545728)>.\n",
      "594 saved in thread <Thread(breed sparrow 594, started 139853891618560)>.\n",
      "595 saved in thread <Thread(breed sparrow 595, started 139853274806016)>.\n",
      "596 saved in thread <Thread(breed sparrow 596, started 139852381153024)>.\n",
      "593 saved in thread <Thread(breed sparrow 593, started 139852347582208)>.\n",
      "602 saved in thread <Thread(breed sparrow 602, started 139852364367616)>.\n",
      "599 saved in thread <Thread(breed sparrow 599, started 139852246935296)>.\n",
      "604 saved in thread <Thread(breed sparrow 604, started 139852381153024)>.\n",
      "601 saved in thread <Thread(breed sparrow 601, started 139852919338752)>.\n",
      "603 saved in thread <Thread(breed sparrow 603, started 139853312554752)>.\n",
      "600 saved in thread <Thread(breed sparrow 600, started 139852355974912)>.\n",
      "606 saved in thread <Thread(breed sparrow 606, started 139853891618560)>.\n",
      "605 saved in thread <Thread(breed sparrow 605, started 139853274806016)>.\n",
      "608 saved in thread <Thread(breed sparrow 608, started 139852347582208)>.\n",
      "609 saved in thread <Thread(breed sparrow 609, started 139852919338752)>.\n",
      "607 saved in thread <Thread(breed sparrow 607, started 139852364367616)>.\n",
      "610 saved in thread <Thread(breed sparrow 610, started 139853312554752)>.\n",
      "611 saved in thread <Thread(breed sparrow 611, started 139852919338752)>.\n",
      "612 saved in thread <Thread(breed sparrow 612, started 139852347582208)>.\n",
      "614 saved in thread <Thread(breed sparrow 614, started 139853891618560)>.\n"
     ]
    },
    {
     "name": "stdout",
     "output_type": "stream",
     "text": [
      "613 saved in thread <Thread(breed sparrow 613, started 139853274806016)>.\n",
      "616 saved in thread <Thread(breed sparrow 616, started 139853891618560)>.\n",
      "617 saved in thread <Thread(breed sparrow 617, started 139853274806016)>.\n",
      "618 saved in thread <Thread(breed sparrow 618, started 139852347582208)>.\n",
      "619 saved in thread <Thread(breed sparrow 619, started 139852919338752)>.\n",
      "621 saved in thread <Thread(breed sparrow 621, started 139852389545728)>.\n",
      "615 saved in thread <Thread(breed sparrow 615, started 139852364367616)>.\n",
      "620 saved in thread <Thread(breed sparrow 620, started 139853312554752)>.\n",
      "625 saved in thread <Thread(breed sparrow 625, started 139852347582208)>.\n",
      "622 saved in thread <Thread(breed sparrow 622, started 139852381153024)>.\n",
      "626 saved in thread <Thread(breed sparrow 626, started 139852389545728)>.\n",
      "623 saved in thread <Thread(breed sparrow 623, started 139853891618560)>.\n",
      "629 saved in thread <Thread(breed sparrow 629, started 139853274806016)>.\n",
      "624 saved in thread <Thread(breed sparrow 624, started 139852919338752)>.\n",
      "632 saved in thread <Thread(breed sparrow 632, started 139852381153024)>.\n",
      "630 saved in thread <Thread(breed sparrow 630, started 139852347582208)>.\n",
      "627 saved in thread <Thread(breed sparrow 627, started 139852364367616)>.\n",
      "628 saved in thread <Thread(breed sparrow 628, started 139853312554752)>.\n",
      "631 saved in thread <Thread(breed sparrow 631, started 139852372760320)>.\n",
      "634 saved in thread <Thread(breed sparrow 634, started 139853274806016)>.\n",
      "635 saved in thread <Thread(breed sparrow 635, started 139853312554752)>.\n",
      "633 saved in thread <Thread(breed sparrow 633, started 139852389545728)>.\n",
      "636 saved in thread <Thread(breed sparrow 636, started 139852364367616)>.\n",
      "637 saved in thread <Thread(breed sparrow 637, started 139852347582208)>.\n",
      "639 saved in thread <Thread(breed sparrow 639, started 139853312554752)>.\n",
      "638 saved in thread <Thread(breed sparrow 638, started 139852372760320)>.\n",
      "640 saved in thread <Thread(breed sparrow 640, started 139852389545728)>.\n",
      "642 saved in thread <Thread(breed sparrow 642, started 139852347582208)>.\n",
      "641 saved in thread <Thread(breed sparrow 641, started 139853274806016)>.\n",
      "643 saved in thread <Thread(breed sparrow 643, started 139852364367616)>.\n",
      "644 saved in thread <Thread(breed sparrow 644, started 139852381153024)>.\n",
      "647 saved in thread <Thread(breed sparrow 647, started 139852372760320)>.\n",
      "645 saved in thread <Thread(breed sparrow 645, started 139853891618560)>.\n",
      "648 saved in thread <Thread(breed sparrow 648, started 139852347582208)>.\n",
      "650 saved in thread <Thread(breed sparrow 650, started 139852372760320)>.\n",
      "649 saved in thread <Thread(breed sparrow 649, started 139853274806016)>.\n",
      "646 saved in thread <Thread(breed sparrow 646, started 139852389545728)>.\n",
      "652 saved in thread <Thread(breed sparrow 652, started 139852381153024)>.\n",
      "651 saved in thread <Thread(breed sparrow 651, started 139853891618560)>.\n",
      "653 saved in thread <Thread(breed sparrow 653, started 139852364367616)>.\n",
      "654 saved in thread <Thread(breed sparrow 654, started 139852389545728)>.\n",
      "656 saved in thread <Thread(breed sparrow 656, started 139853891618560)>.\n",
      "655 saved in thread <Thread(breed sparrow 655, started 139853274806016)>.\n",
      "659 saved in thread <Thread(breed sparrow 659, started 139852347582208)>.\n",
      "658 saved in thread <Thread(breed sparrow 658, started 139852372760320)>.\n",
      "662 saved in thread <Thread(breed sparrow 662, started 139853312554752)>.\n",
      "657 saved in thread <Thread(breed sparrow 657, started 139852381153024)>.\n",
      "660 saved in thread <Thread(breed sparrow 660, started 139852389545728)>.\n",
      "664 saved in thread <Thread(breed sparrow 664, started 139852355974912)>.\n",
      "661 saved in thread <Thread(breed sparrow 661, started 139852364367616)>.\n",
      "667 saved in thread <Thread(breed sparrow 667, started 139852381153024)>.\n",
      "665 saved in thread <Thread(breed sparrow 665, started 139852347582208)>.\n",
      "663 saved in thread <Thread(breed sparrow 663, started 139852919338752)>.\n",
      "669 saved in thread <Thread(breed sparrow 669, started 139852389545728)>.\n",
      "666 saved in thread <Thread(breed sparrow 666, started 139853274806016)>.\n",
      "668 saved in thread <Thread(breed sparrow 668, started 139853312554752)>.\n",
      "671 saved in thread <Thread(breed sparrow 671, started 139852355974912)>.\n",
      "675 saved in thread <Thread(breed sparrow 675, started 139853274806016)>.\n",
      "670 saved in thread <Thread(breed sparrow 670, started 139852364367616)>.\n",
      "673 saved in thread <Thread(breed sparrow 673, started 139852372760320)>.\n",
      "672 saved in thread <Thread(breed sparrow 672, started 139852381153024)>.\n",
      "674 saved in thread <Thread(breed sparrow 674, started 139852347582208)>.\n",
      "676 saved in thread <Thread(breed sparrow 676, started 139853274806016)>.\n",
      "677 saved in thread <Thread(breed sparrow 677, started 139852372760320)>.\n",
      "679 saved in thread <Thread(breed sparrow 679, started 139852355974912)>.678 saved in thread <Thread(breed sparrow 678, started 139852364367616)>.\n",
      "\n",
      "681 saved in thread <Thread(breed sparrow 681, started 139852381153024)>.\n",
      "680 saved in thread <Thread(breed sparrow 680, started 139852347582208)>.\n",
      "682 saved in thread <Thread(breed sparrow 682, started 139853274806016)>.\n",
      "684 saved in thread <Thread(breed sparrow 684, started 139853891618560)>.\n",
      "683 saved in thread <Thread(breed sparrow 683, started 139853312554752)>.\n",
      "686 saved in thread <Thread(breed sparrow 686, started 139852919338752)>.\n",
      "687 saved in thread <Thread(breed sparrow 687, started 139852389545728)>.\n",
      "696 saved in thread <Thread(breed sparrow 696, started 139852919338752)>.\n",
      "688 saved in thread <Thread(breed sparrow 688, started 139852355974912)>.\n",
      "689 saved in thread <Thread(breed sparrow 689, started 139852364367616)>.\n",
      "690 saved in thread <Thread(breed sparrow 690, started 139852381153024)>.\n",
      "693 saved in thread <Thread(breed sparrow 693, started 139852347582208)>.\n",
      "692 saved in thread <Thread(breed sparrow 692, started 139853274806016)>.\n",
      "685 saved in thread <Thread(breed sparrow 685, started 139852372760320)>.\n",
      "695 saved in thread <Thread(breed sparrow 695, started 139852339189504)>.\n",
      "700 saved in thread <Thread(breed sparrow 700, started 139852364367616)>.\n",
      "694 saved in thread <Thread(breed sparrow 694, started 139853312554752)>.\n",
      "699 saved in thread <Thread(breed sparrow 699, started 139852919338752)>.\n",
      "698 saved in thread <Thread(breed sparrow 698, started 139852389545728)>.\n",
      "701 saved in thread <Thread(breed sparrow 701, started 139852381153024)>.\n",
      "691 saved in thread <Thread(breed sparrow 691, started 139853891618560)>.\n",
      "702 saved in thread <Thread(breed sparrow 702, started 139853312554752)>.\n",
      "697 saved in thread <Thread(breed sparrow 697, started 139852255328000)>.\n",
      "703 saved in thread <Thread(breed sparrow 703, started 139852389545728)>.\n",
      "704 saved in thread <Thread(breed sparrow 704, started 139853891618560)>.\n",
      "712 saved in thread <Thread(breed sparrow 712, started 139852389545728)>.\n",
      "710 saved in thread <Thread(breed sparrow 710, started 139852355974912)>.\n",
      "706 saved in thread <Thread(breed sparrow 706, started 139852919338752)>.\n",
      "708 saved in thread <Thread(breed sparrow 708, started 139853274806016)>.\n",
      "705 saved in thread <Thread(breed sparrow 705, started 139852381153024)>.\n",
      "707 saved in thread <Thread(breed sparrow 707, started 139852364367616)>.\n",
      "711 saved in thread <Thread(breed sparrow 711, started 139852347582208)>.\n",
      "709 saved in thread <Thread(breed sparrow 709, started 139852372760320)>.\n",
      "716 saved in thread <Thread(breed sparrow 716, started 139852355974912)>.\n",
      "713 saved in thread <Thread(breed sparrow 713, started 139852255328000)>.\n",
      "715 saved in thread <Thread(breed sparrow 715, started 139853312554752)>.\n",
      "714 saved in thread <Thread(breed sparrow 714, started 139853891618560)>.\n",
      "719 saved in thread <Thread(breed sparrow 719, started 139852372760320)>.\n",
      "717 saved in thread <Thread(breed sparrow 717, started 139852381153024)>.\n",
      "718 saved in thread <Thread(breed sparrow 718, started 139852347582208)>.\n",
      "721 saved in thread <Thread(breed sparrow 721, started 139852355974912)>.\n",
      "723 saved in thread <Thread(breed sparrow 723, started 139852381153024)>.\n",
      "720 saved in thread <Thread(breed sparrow 720, started 139852364367616)>.\n",
      "722 saved in thread <Thread(breed sparrow 722, started 139852372760320)>.\n",
      "724 saved in thread <Thread(breed sparrow 724, started 139853891618560)>.\n",
      "726 saved in thread <Thread(breed sparrow 726, started 139852364367616)>.\n",
      "725 saved in thread <Thread(breed sparrow 725, started 139852372760320)>.\n",
      "729 saved in thread <Thread(breed sparrow 729, started 139852364367616)>.\n",
      "733 saved in thread <Thread(breed sparrow 733, started 139853274806016)>.\n",
      "731 saved in thread <Thread(breed sparrow 731, started 139853891618560)>.\n",
      "730 saved in thread <Thread(breed sparrow 730, started 139852372760320)>.\n",
      "728 saved in thread <Thread(breed sparrow 728, started 139852355974912)>.\n",
      "732 saved in thread <Thread(breed sparrow 732, started 139853312554752)>.\n",
      "727 saved in thread <Thread(breed sparrow 727, started 139852381153024)>.\n",
      "734 saved in thread <Thread(breed sparrow 734, started 139852919338752)>.\n",
      "736 saved in thread <Thread(breed sparrow 736, started 139852389545728)>.\n",
      "738 saved in thread <Thread(breed sparrow 738, started 139852355974912)>.\n",
      "737 saved in thread <Thread(breed sparrow 737, started 139853891618560)>.\n",
      "740 saved in thread <Thread(breed sparrow 740, started 139852919338752)>.\n",
      "739 saved in thread <Thread(breed sparrow 739, started 139852372760320)>.\n",
      "741 saved in thread <Thread(breed sparrow 741, started 139852381153024)>.\n",
      "735 saved in thread <Thread(breed sparrow 735, started 139852364367616)>.\n"
     ]
    },
    {
     "name": "stdout",
     "output_type": "stream",
     "text": [
      "745 saved in thread <Thread(breed sparrow 745, started 139852372760320)>.\n",
      "744 saved in thread <Thread(breed sparrow 744, started 139852919338752)>.\n",
      "743 saved in thread <Thread(breed sparrow 743, started 139852355974912)>.\n",
      "746 saved in thread <Thread(breed sparrow 746, started 139853891618560)>.\n",
      "742 saved in thread <Thread(breed sparrow 742, started 139853312554752)>.\n",
      "747 saved in thread <Thread(breed sparrow 747, started 139852389545728)>.\n",
      "751 saved in thread <Thread(breed sparrow 751, started 139852347582208)>.\n",
      "753 saved in thread <Thread(breed sparrow 753, started 139852389545728)>.755 saved in thread <Thread(breed sparrow 755, started 139853891618560)>.\n",
      "\n",
      "754 saved in thread <Thread(breed sparrow 754, started 139853312554752)>.752 saved in thread <Thread(breed sparrow 752, started 139852919338752)>.\n",
      "750 saved in thread <Thread(breed sparrow 750, started 139853274806016)>.\n",
      "749 saved in thread <Thread(breed sparrow 749, started 139852364367616)>.\n",
      "748 saved in thread <Thread(breed sparrow 748, started 139852381153024)>.\n",
      "\n",
      "756 saved in thread <Thread(breed sparrow 756, started 139852347582208)>.\n",
      "759 saved in thread <Thread(breed sparrow 759, started 139852372760320)>.\n",
      "758 saved in thread <Thread(breed sparrow 758, started 139853891618560)>.\n",
      "757 saved in thread <Thread(breed sparrow 757, started 139852355974912)>.760 saved in thread <Thread(breed sparrow 760, started 139852381153024)>.\n",
      "\n",
      "761 saved in thread <Thread(breed sparrow 761, started 139852347582208)>.\n",
      "762 saved in thread <Thread(breed sparrow 762, started 139853891618560)>.\n",
      "764 saved in thread <Thread(breed sparrow 764, started 139852381153024)>.\n",
      "765 saved in thread <Thread(breed sparrow 765, started 139852372760320)>.\n",
      "763 saved in thread <Thread(breed sparrow 763, started 139852355974912)>.\n",
      "766 saved in thread <Thread(breed sparrow 766, started 139852347582208)>.\n",
      "767 saved in thread <Thread(breed sparrow 767, started 139853312554752)>.\n",
      "768 saved in thread <Thread(breed sparrow 768, started 139853891618560)>.\n",
      "769 saved in thread <Thread(breed sparrow 769, started 139852381153024)>.\n",
      "772 saved in thread <Thread(breed sparrow 772, started 139853891618560)>.\n",
      "770 saved in thread <Thread(breed sparrow 770, started 139853274806016)>.\n",
      "773 saved in thread <Thread(breed sparrow 773, started 139853312554752)>.\n",
      "771 saved in thread <Thread(breed sparrow 771, started 139852355974912)>.\n",
      "774 saved in thread <Thread(breed sparrow 774, started 139852381153024)>.\n",
      "775 saved in thread <Thread(breed sparrow 775, started 139852347582208)>.\n",
      "780 saved in thread <Thread(breed sparrow 780, started 139852364367616)>.\n",
      "779 saved in thread <Thread(breed sparrow 779, started 139852389545728)>.\n",
      "777 saved in thread <Thread(breed sparrow 777, started 139852919338752)>.\n",
      "778 saved in thread <Thread(breed sparrow 778, started 139853274806016)>.\n",
      "776 saved in thread <Thread(breed sparrow 776, started 139852372760320)>.781 saved in thread <Thread(breed sparrow 781, started 139853312554752)>.\n",
      "783 saved in thread <Thread(breed sparrow 783, started 139853274806016)>.\n",
      "782 saved in thread <Thread(breed sparrow 782, started 139852355974912)>.\n",
      "\n",
      "784 saved in thread <Thread(breed sparrow 784, started 139852919338752)>.\n",
      "785 saved in thread <Thread(breed sparrow 785, started 139852389545728)>.\n",
      "788 saved in thread <Thread(breed sparrow 788, started 139853312554752)>.\n",
      "786 saved in thread <Thread(breed sparrow 786, started 139852364367616)>.\n",
      "790 saved in thread <Thread(breed sparrow 790, started 139852919338752)>.\n",
      "787 saved in thread <Thread(breed sparrow 787, started 139853891618560)>.\n",
      "792 saved in thread <Thread(breed sparrow 792, started 139853274806016)>.\n",
      "791 saved in thread <Thread(breed sparrow 791, started 139852355974912)>.\n",
      "793 saved in thread <Thread(breed sparrow 793, started 139853312554752)>.\n",
      "789 saved in thread <Thread(breed sparrow 789, started 139852372760320)>.\n",
      "794 saved in thread <Thread(breed sparrow 794, started 139852389545728)>.\n",
      "797 saved in thread <Thread(breed sparrow 797, started 139852347582208)>.\n",
      "795 saved in thread <Thread(breed sparrow 795, started 139852364367616)>.\n",
      "799 saved in thread <Thread(breed sparrow 799, started 139852347582208)>.\n",
      "796 saved in thread <Thread(breed sparrow 796, started 139852381153024)>.\n",
      "798 saved in thread <Thread(breed sparrow 798, started 139853274806016)>.\n",
      "800 saved in thread <Thread(breed sparrow 800, started 139852364367616)>.\n",
      "801 saved in thread <Thread(breed sparrow 801, started 139852389545728)>.\n",
      "805 saved in thread <Thread(breed sparrow 805, started 139852372760320)>.\n",
      "804 saved in thread <Thread(breed sparrow 804, started 139852347582208)>.\n",
      "802 saved in thread <Thread(breed sparrow 802, started 139853274806016)>.\n",
      "806 saved in thread <Thread(breed sparrow 806, started 139853891618560)>.\n",
      "803 saved in thread <Thread(breed sparrow 803, started 139852381153024)>.\n",
      "807 saved in thread <Thread(breed sparrow 807, started 139852364367616)>.\n",
      "808 saved in thread <Thread(breed sparrow 808, started 139852347582208)>.\n",
      "810 saved in thread <Thread(breed sparrow 810, started 139853891618560)>.\n",
      "809 saved in thread <Thread(breed sparrow 809, started 139852381153024)>.\n",
      "813 saved in thread <Thread(breed sparrow 813, started 139852372760320)>.811 saved in thread <Thread(breed sparrow 811, started 139852364367616)>.\n",
      "812 saved in thread <Thread(breed sparrow 812, started 139853274806016)>.\n",
      "\n",
      "814 saved in thread <Thread(breed sparrow 814, started 139853312554752)>.\n",
      "820 saved in thread <Thread(breed sparrow 820, started 139852372760320)>.\n",
      "819 saved in thread <Thread(breed sparrow 819, started 139853312554752)>.\n",
      "821 saved in thread <Thread(breed sparrow 821, started 139853274806016)>.\n",
      "815 saved in thread <Thread(breed sparrow 815, started 139852919338752)>.\n",
      "818 saved in thread <Thread(breed sparrow 818, started 139852347582208)>.\n",
      "817 saved in thread <Thread(breed sparrow 817, started 139852381153024)>.\n",
      "822 saved in thread <Thread(breed sparrow 822, started 139852364367616)>.\n",
      "816 saved in thread <Thread(breed sparrow 816, started 139853891618560)>.\n",
      "826 saved in thread <Thread(breed sparrow 826, started 139852347582208)>.\n",
      "824 saved in thread <Thread(breed sparrow 824, started 139853312554752)>.\n",
      "823 saved in thread <Thread(breed sparrow 823, started 139852389545728)>.\n",
      "827 saved in thread <Thread(breed sparrow 827, started 139852364367616)>.\n",
      "825 saved in thread <Thread(breed sparrow 825, started 139852919338752)>.\n",
      "828 saved in thread <Thread(breed sparrow 828, started 139852381153024)>.832 saved in thread <Thread(breed sparrow 832, started 139852347582208)>.\n",
      "829 saved in thread <Thread(breed sparrow 829, started 139853891618560)>.\n",
      "830 saved in thread <Thread(breed sparrow 830, started 139853274806016)>.\n",
      "833 saved in thread <Thread(breed sparrow 833, started 139852355974912)>.\n",
      "831 saved in thread <Thread(breed sparrow 831, started 139852372760320)>.\n",
      "835 saved in thread <Thread(breed sparrow 835, started 139852919338752)>.\n",
      "834 saved in thread <Thread(breed sparrow 834, started 139852364367616)>.\n",
      "837 saved in thread <Thread(breed sparrow 837, started 139853312554752)>.\n",
      "\n",
      "841 saved in thread <Thread(breed sparrow 841, started 139852364367616)>.\n",
      "836 saved in thread <Thread(breed sparrow 836, started 139852389545728)>.\n",
      "838 saved in thread <Thread(breed sparrow 838, started 139852347582208)>.\n",
      "839 saved in thread <Thread(breed sparrow 839, started 139853891618560)>.\n",
      "843 saved in thread <Thread(breed sparrow 843, started 139852919338752)>.\n",
      "845 saved in thread <Thread(breed sparrow 845, started 139852381153024)>.\n",
      "846 saved in thread <Thread(breed sparrow 846, started 139852364367616)>.\n",
      "840 saved in thread <Thread(breed sparrow 840, started 139853274806016)>.\n",
      "842 saved in thread <Thread(breed sparrow 842, started 139853312554752)>.\n",
      "844 saved in thread <Thread(breed sparrow 844, started 139852389545728)>.\n",
      "849 saved in thread <Thread(breed sparrow 849, started 139852372760320)>.\n",
      "848 saved in thread <Thread(breed sparrow 848, started 139853891618560)>.\n",
      "847 saved in thread <Thread(breed sparrow 847, started 139852347582208)>.\n",
      "850 saved in thread <Thread(breed sparrow 850, started 139852919338752)>.\n",
      "851 saved in thread <Thread(breed sparrow 851, started 139853274806016)>.\n",
      "852 saved in thread <Thread(breed sparrow 852, started 139852364367616)>.\n",
      "854 saved in thread <Thread(breed sparrow 854, started 139852347582208)>.\n",
      "856 saved in thread <Thread(breed sparrow 856, started 139853891618560)>.858 saved in thread <Thread(breed sparrow 858, started 139853312554752)>.\n",
      "853 saved in thread <Thread(breed sparrow 853, started 139852389545728)>.\n",
      "\n",
      "855 saved in thread <Thread(breed sparrow 855, started 139852919338752)>.\n",
      "859 saved in thread <Thread(breed sparrow 859, started 139853274806016)>.\n",
      "860 saved in thread <Thread(breed sparrow 860, started 139852364367616)>.\n",
      "857 saved in thread <Thread(breed sparrow 857, started 139852372760320)>.\n",
      "863 saved in thread <Thread(breed sparrow 863, started 139853274806016)>.862 saved in thread <Thread(breed sparrow 862, started 139852389545728)>.\n",
      "864 saved in thread <Thread(breed sparrow 864, started 139852364367616)>.\n",
      "861 saved in thread <Thread(breed sparrow 861, started 139852381153024)>.\n",
      "\n",
      "866 saved in thread <Thread(breed sparrow 866, started 139852372760320)>.\n",
      "865 saved in thread <Thread(breed sparrow 865, started 139852919338752)>.\n",
      "867 saved in thread <Thread(breed sparrow 867, started 139853891618560)>.\n",
      "871 saved in thread <Thread(breed sparrow 871, started 139853274806016)>.\n",
      "873 saved in thread <Thread(breed sparrow 873, started 139852389545728)>.\n"
     ]
    },
    {
     "name": "stdout",
     "output_type": "stream",
     "text": [
      "869 saved in thread <Thread(breed sparrow 869, started 139852381153024)>.\n",
      "872 saved in thread <Thread(breed sparrow 872, started 139852372760320)>.\n",
      "870 saved in thread <Thread(breed sparrow 870, started 139852364367616)>.\n",
      "875 saved in thread <Thread(breed sparrow 875, started 139853891618560)>.\n",
      "868 saved in thread <Thread(breed sparrow 868, started 139853312554752)>.\n",
      "877 saved in thread <Thread(breed sparrow 877, started 139853274806016)>.\n",
      "874 saved in thread <Thread(breed sparrow 874, started 139852355974912)>.\n",
      "876 saved in thread <Thread(breed sparrow 876, started 139852919338752)>.\n",
      "878 saved in thread <Thread(breed sparrow 878, started 139852364367616)>.\n",
      "883 saved in thread <Thread(breed sparrow 883, started 139852372760320)>.879 saved in thread <Thread(breed sparrow 879, started 139852381153024)>.\n",
      "\n",
      "881 saved in thread <Thread(breed sparrow 881, started 139853891618560)>.\n",
      "880 saved in thread <Thread(breed sparrow 880, started 139853312554752)>.\n",
      "882 saved in thread <Thread(breed sparrow 882, started 139853274806016)>.\n",
      "884 saved in thread <Thread(breed sparrow 884, started 139852919338752)>.\n",
      "887 saved in thread <Thread(breed sparrow 887, started 139853312554752)>.\n",
      "886 saved in thread <Thread(breed sparrow 886, started 139852364367616)>.\n",
      "888 saved in thread <Thread(breed sparrow 888, started 139853891618560)>.\n",
      "885 saved in thread <Thread(breed sparrow 885, started 139852355974912)>.\n",
      "889 saved in thread <Thread(breed sparrow 889, started 139853274806016)>.\n",
      "890 saved in thread <Thread(breed sparrow 890, started 139852919338752)>.\n",
      "892 saved in thread <Thread(breed sparrow 892, started 139853312554752)>.\n",
      "895 saved in thread <Thread(breed sparrow 895, started 139853891618560)>.\n",
      "894 saved in thread <Thread(breed sparrow 894, started 139852364367616)>.\n",
      "891 saved in thread <Thread(breed sparrow 891, started 139852372760320)>.\n",
      "893 saved in thread <Thread(breed sparrow 893, started 139852381153024)>.\n",
      "897 saved in thread <Thread(breed sparrow 897, started 139852355974912)>.\n",
      "901 saved in thread <Thread(breed sparrow 901, started 139852364367616)>.\n",
      "899 saved in thread <Thread(breed sparrow 899, started 139852347582208)>.\n",
      "896 saved in thread <Thread(breed sparrow 896, started 139852389545728)>.\n",
      "898 saved in thread <Thread(breed sparrow 898, started 139853274806016)>.\n",
      "900 saved in thread <Thread(breed sparrow 900, started 139853891618560)>.\n",
      "903 saved in thread <Thread(breed sparrow 903, started 139852381153024)>.\n",
      "902 saved in thread <Thread(breed sparrow 902, started 139852372760320)>.\n",
      "908 saved in thread <Thread(breed sparrow 908, started 139853312554752)>.\n",
      "906 saved in thread <Thread(breed sparrow 906, started 139852389545728)>.\n",
      "904 saved in thread <Thread(breed sparrow 904, started 139852355974912)>.\n",
      "905 saved in thread <Thread(breed sparrow 905, started 139852347582208)>.\n",
      "907 saved in thread <Thread(breed sparrow 907, started 139852364367616)>.\n",
      "909 saved in thread <Thread(breed sparrow 909, started 139853274806016)>.\n",
      "912 saved in thread <Thread(breed sparrow 912, started 139852389545728)>.\n",
      "914 saved in thread <Thread(breed sparrow 914, started 139852364367616)>.\n",
      "910 saved in thread <Thread(breed sparrow 910, started 139852347582208)>.\n",
      "911 saved in thread <Thread(breed sparrow 911, started 139852355974912)>.\n",
      "913 saved in thread <Thread(breed sparrow 913, started 139853274806016)>.\n",
      "917 saved in thread <Thread(breed sparrow 917, started 139852919338752)>.\n",
      "919 saved in thread <Thread(breed sparrow 919, started 139852355974912)>.\n",
      "915 saved in thread <Thread(breed sparrow 915, started 139853312554752)>.\n",
      "920 saved in thread <Thread(breed sparrow 920, started 139852347582208)>.\n",
      "918 saved in thread <Thread(breed sparrow 918, started 139852364367616)>.\n",
      "924 saved in thread <Thread(breed sparrow 924, started 139852372760320)>.\n",
      "916 saved in thread <Thread(breed sparrow 916, started 139853891618560)>.\n",
      "921 saved in thread <Thread(breed sparrow 921, started 139853274806016)>.\n",
      "922 saved in thread <Thread(breed sparrow 922, started 139852389545728)>.\n",
      "923 saved in thread <Thread(breed sparrow 923, started 139852381153024)>.\n",
      "925 saved in thread <Thread(breed sparrow 925, started 139853312554752)>.\n",
      "927 saved in thread <Thread(breed sparrow 927, started 139852372760320)>.\n",
      "926 saved in thread <Thread(breed sparrow 926, started 139853891618560)>.\n",
      "932 saved in thread <Thread(breed sparrow 932, started 139852364367616)>.928 saved in thread <Thread(breed sparrow 928, started 139852389545728)>.\n",
      "\n",
      "933 saved in thread <Thread(breed sparrow 933, started 139852347582208)>.\n",
      "929 saved in thread <Thread(breed sparrow 929, started 139852381153024)>.\n",
      "931 saved in thread <Thread(breed sparrow 931, started 139853312554752)>.\n",
      "934 saved in thread <Thread(breed sparrow 934, started 139853891618560)>.\n",
      "935 saved in thread <Thread(breed sparrow 935, started 139852372760320)>.\n",
      "930 saved in thread <Thread(breed sparrow 930, started 139853274806016)>.\n",
      "937 saved in thread <Thread(breed sparrow 937, started 139852355974912)>.936 saved in thread <Thread(breed sparrow 936, started 139852919338752)>.\n",
      "\n",
      "938 saved in thread <Thread(breed sparrow 938, started 139852389545728)>.\n",
      "940 saved in thread <Thread(breed sparrow 940, started 139852339189504)>.\n",
      "944 saved in thread <Thread(breed sparrow 944, started 139852372760320)>.941 saved in thread <Thread(breed sparrow 941, started 139852347582208)>.\n",
      "\n",
      "939 saved in thread <Thread(breed sparrow 939, started 139852364367616)>.\n",
      "942 saved in thread <Thread(breed sparrow 942, started 139852381153024)>.\n",
      "945 saved in thread <Thread(breed sparrow 945, started 139853274806016)>.\n",
      "949 saved in thread <Thread(breed sparrow 949, started 139852372760320)>.\n",
      "948 saved in thread <Thread(breed sparrow 948, started 139853312554752)>.\n",
      "947 saved in thread <Thread(breed sparrow 947, started 139852919338752)>.\n",
      "946 saved in thread <Thread(breed sparrow 946, started 139853891618560)>.\n",
      "943 saved in thread <Thread(breed sparrow 943, started 139852255328000)>.\n",
      "952 saved in thread <Thread(breed sparrow 952, started 139852372760320)>.\n",
      "950 saved in thread <Thread(breed sparrow 950, started 139852364367616)>.\n",
      "951 saved in thread <Thread(breed sparrow 951, started 139853274806016)>.\n",
      "954 saved in thread <Thread(breed sparrow 954, started 139852255328000)>.\n",
      "955 saved in thread <Thread(breed sparrow 955, started 139853891618560)>.\n",
      "953 saved in thread <Thread(breed sparrow 953, started 139853312554752)>.959 saved in thread <Thread(breed sparrow 959, started 139852355974912)>.\n",
      "956 saved in thread <Thread(breed sparrow 956, started 139852919338752)>.\n",
      "\n",
      "961 saved in thread <Thread(breed sparrow 961, started 139853274806016)>.\n",
      "957 saved in thread <Thread(breed sparrow 957, started 139852381153024)>.\n",
      "960 saved in thread <Thread(breed sparrow 960, started 139852255328000)>.\n",
      "958 saved in thread <Thread(breed sparrow 958, started 139852389545728)>.\n",
      "962 saved in thread <Thread(breed sparrow 962, started 139853891618560)>.\n",
      "963 saved in thread <Thread(breed sparrow 963, started 139852364367616)>.\n",
      "965 saved in thread <Thread(breed sparrow 965, started 139853274806016)>.\n",
      "966 saved in thread <Thread(breed sparrow 966, started 139853312554752)>.\n",
      "964 saved in thread <Thread(breed sparrow 964, started 139852372760320)>.\n",
      "967 saved in thread <Thread(breed sparrow 967, started 139853891618560)>.\n",
      "968 saved in thread <Thread(breed sparrow 968, started 139852389545728)>.\n",
      "970 saved in thread <Thread(breed sparrow 970, started 139853274806016)>.\n",
      "969 saved in thread <Thread(breed sparrow 969, started 139852364367616)>.\n",
      "971 saved in thread <Thread(breed sparrow 971, started 139853312554752)>.\n",
      "973 saved in thread <Thread(breed sparrow 973, started 139852389545728)>.\n",
      "975 saved in thread <Thread(breed sparrow 975, started 139853274806016)>.\n",
      "977 saved in thread <Thread(breed sparrow 977, started 139852364367616)>.\n",
      "978 saved in thread <Thread(breed sparrow 978, started 139852381153024)>.\n",
      "976 saved in thread <Thread(breed sparrow 976, started 139852372760320)>.\n",
      "980 saved in thread <Thread(breed sparrow 980, started 139852919338752)>.\n",
      "972 saved in thread <Thread(breed sparrow 972, started 139852255328000)>.\n",
      "982 saved in thread <Thread(breed sparrow 982, started 139852355974912)>.\n",
      "981 saved in thread <Thread(breed sparrow 981, started 139852389545728)>.\n",
      "985 saved in thread <Thread(breed sparrow 985, started 139852339189504)>.\n",
      "979 saved in thread <Thread(breed sparrow 979, started 139853312554752)>.\n",
      "986 saved in thread <Thread(breed sparrow 986, started 139852364367616)>.\n",
      "983 saved in thread <Thread(breed sparrow 983, started 139852347582208)>.\n",
      "974 saved in thread <Thread(breed sparrow 974, started 139853891618560)>.\n",
      "987 saved in thread <Thread(breed sparrow 987, started 139852255328000)>.\n",
      "989 saved in thread <Thread(breed sparrow 989, started 139852372760320)>.984 saved in thread <Thread(breed sparrow 984, started 139853274806016)>.\n",
      "\n",
      "988 saved in thread <Thread(breed sparrow 988, started 139852355974912)>.\n",
      "990 saved in thread <Thread(breed sparrow 990, started 139852389545728)>.\n",
      "991 saved in thread <Thread(breed sparrow 991, started 139852347582208)>.\n",
      "993 saved in thread <Thread(breed sparrow 993, started 139852364367616)>.\n",
      "995 saved in thread <Thread(breed sparrow 995, started 139852355974912)>.\n",
      "992 saved in thread <Thread(breed sparrow 992, started 139853891618560)>.\n"
     ]
    },
    {
     "name": "stdout",
     "output_type": "stream",
     "text": [
      "999 saved in thread <Thread(breed sparrow 999, started 139852919338752)>.\n",
      "998 saved in thread <Thread(breed sparrow 998, started 139853312554752)>.\n",
      "994 saved in thread <Thread(breed sparrow 994, started 139852372760320)>.\n",
      "996 saved in thread <Thread(breed sparrow 996, started 139853274806016)>.\n",
      "997 saved in thread <Thread(breed sparrow 997, started 139852255328000)>.\n",
      "CPU times: user 1.57 s, sys: 392 ms, total: 1.96 s\n",
      "Wall time: 1.69 s\n"
     ]
    }
   ],
   "source": [
    "%%time\n",
    "for i in range(1000):\n",
    "    t = threading.Thread(target=breed, name=f'breed sparrow {i}', args=(i,))\n",
    "    t.start()\n",
    "    \n",
    "Bird.delete({'name':'sparrow'})"
   ]
  },
  {
   "cell_type": "markdown",
   "metadata": {},
   "source": [
    "Multiprocessing (using the separated memory for each process)"
   ]
  },
  {
   "cell_type": "markdown",
   "metadata": {},
   "source": [
    ">PyMongo is not fork-safe. Care must be taken when using instances of MongoClient with fork(). Specifically, instances of MongoClient must not be copied from a parent process to a child process. Instead, the parent process and each child process must create their own instances of MongoClient. Instances of MongoClient copied from the parent process have a high probability of deadlock in the child process due to the inherent incompatibilities between fork(), threads, and locks described below. PyMongo will attempt to issue a warning if there is a chance of this deadlock occurring.\n",
    "http://api.mongodb.com/python/current/faq.html#pymongo-fork-safe%3E"
   ]
  },
  {
   "cell_type": "code",
   "execution_count": 296,
   "metadata": {},
   "outputs": [],
   "source": [
    "def breed2(tasks):\n",
    "    db = Bird._db()  # create a MongoDB Client for the forked process\n",
    "    try:\n",
    "        for i in range(len(tasks)):\n",
    "            sparrow = Bird({'_id': ObjectId(), 'name': f'sparrow', 'age': 0})\n",
    "            sparrow.save(db=db)\n",
    "            sparrow.age += 1\n",
    "            sparrow.update(db=db)\n",
    "    except Exception as e:\n",
    "        print(f'Exception occured. {e} in process {multiprocessing.current_process()}')\n",
    "    else:\n",
    "        print(f'{len(tasks)} sparrow saved in process {multiprocessing.current_process()}.')"
   ]
  },
  {
   "cell_type": "code",
   "execution_count": 297,
   "metadata": {},
   "outputs": [
    {
     "name": "stdout",
     "output_type": "stream",
     "text": [
      "40 cpu resources found.\n",
      "250 sparrow saved in process <ForkProcess(ForkPoolWorker-28, started daemon)>.\n",
      "250 sparrow saved in process <ForkProcess(ForkPoolWorker-26, started daemon)>.\n",
      "250 sparrow saved in process <ForkProcess(ForkPoolWorker-27, started daemon)>.\n",
      "250 sparrow saved in process <ForkProcess(ForkPoolWorker-25, started daemon)>.\n",
      "CPU times: user 16 ms, sys: 28 ms, total: 44 ms\n",
      "Wall time: 373 ms\n"
     ]
    }
   ],
   "source": [
    "%%time\n",
    "print(f'{multiprocessing.cpu_count()} cpu resources found.')\n",
    "tasks = [[f'sparrow {i}' for i in range(250)] for j in range(4)]\n",
    "process_pool = multiprocessing.Pool(4)\n",
    "process_pool.map(breed2, tasks)"
   ]
  }
 ],
 "metadata": {
  "kernelspec": {
   "display_name": "Python 3",
   "language": "python",
   "name": "python3"
  },
  "language_info": {
   "codemirror_mode": {
    "name": "ipython",
    "version": 3
   },
   "file_extension": ".py",
   "mimetype": "text/x-python",
   "name": "python",
   "nbconvert_exporter": "python",
   "pygments_lexer": "ipython3",
   "version": "3.6.8"
  }
 },
 "nbformat": 4,
 "nbformat_minor": 2
}
